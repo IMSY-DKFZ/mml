{
 "cells": [
  {
   "cell_type": "markdown",
   "id": "899624e8ac3a5979",
   "metadata": {},
   "source": [
    "# Baseline\n",
    "\n",
    "This guide is a good beginning to familiarize with basic `mml` usage. The goal is to run some baseline models for an existing task. We will use the widely known `MNIST` dataset for demonstration purposes.\n",
    "\n",
    "## Step 1: Prepare data\n",
    "\n",
    "`MNIST` is already available in `mml` through the `mml-tasks` plugin, which might be installed through `pip` easily.\n"
   ]
  },
  {
   "cell_type": "code",
   "execution_count": 2,
   "id": "4896f0ce2d0385ea",
   "metadata": {
    "ExecuteTime": {
     "end_time": "2024-11-22T14:14:38.123607Z",
     "start_time": "2024-11-22T14:14:37.118505Z"
    }
   },
   "outputs": [
    {
     "name": "stdout",
     "output_type": "stream",
     "text": [
      "Name: mml-tasks\n",
      "Version: 0.6.0\n",
      "Summary: This is the MML tasks plugin, providing dataset and task implementation for a bunch of datasets.\n",
      "Home-page: https://git.dkfz.de/imsy/ise/mml\n",
      "Author: Patrick Godau\n",
      "Author-email: patrick.godau@dkfz-heidelberg.de\n",
      "License: MIT\n",
      "Location: /home/scholzpa/miniconda3/envs/mml-dev/lib/python3.10/site-packages\n",
      "Editable project location: /home/scholzpa/Documents/development/github/mml/plugins/tasks\n",
      "Requires: mml-core\n",
      "Required-by: \n"
     ]
    }
   ],
   "source": [
    "!pip show mml-tasks"
   ]
  },
  {
   "cell_type": "code",
   "execution_count": 4,
   "id": "eb0ef16dadb7b3f2",
   "metadata": {
    "ExecuteTime": {
     "end_time": "2024-11-22T14:15:09.023643Z",
     "start_time": "2024-11-22T14:15:01.134140Z"
    }
   },
   "outputs": [
    {
     "name": "stdout",
     "output_type": "stream",
     "text": [
      "\u001B[36m+\u001B[0m\u001B[96m\u001B[34m-\u001B[0m\u001B[96m\u001B[34m-\u001B[0m\u001B[96m\u001B[34m-\u001B[0m\u001B[96m\u001B[34m-\u001B[0m\u001B[96m\u001B[34m-\u001B[0m\u001B[96m\u001B[34m-\u001B[0m\u001B[96m\u001B[34m-\u001B[0m\u001B[96m\u001B[34m-\u001B[0m\u001B[96m\u001B[34m-\u001B[0m\u001B[96m\u001B[34m-\u001B[0m\u001B[96m\u001B[34m-\u001B[0m\u001B[96m\u001B[34m-\u001B[0m\u001B[96m\u001B[34m-\u001B[0m\u001B[96m\u001B[34m-\u001B[0m\u001B[96m\u001B[34m-\u001B[0m\u001B[96m\u001B[34m-\u001B[0m\u001B[96m\u001B[34m-\u001B[0m\u001B[96m\u001B[34m-\u001B[0m\u001B[96m\u001B[34m-\u001B[0m\u001B[96m\u001B[34m-\u001B[0m\u001B[96m\u001B[34m-\u001B[0m\u001B[96m\u001B[34m-\u001B[0m\u001B[96m\u001B[34m-\u001B[0m\u001B[96m\u001B[34m-\u001B[0m\u001B[96m\u001B[34m-\u001B[0m\u001B[96m\u001B[34m-\u001B[0m\u001B[96m\u001B[34m-\u001B[0m\u001B[96m\u001B[34m-\u001B[0m\u001B[96m\u001B[34m-\u001B[0m\u001B[96m\u001B[34m-\u001B[0m\u001B[96m\u001B[34m-\u001B[0m\u001B[96m\u001B[34m-\u001B[0m\u001B[96m\u001B[34m-\u001B[0m\u001B[96m\u001B[34m-\u001B[0m\u001B[96m\u001B[34m-\u001B[0m\u001B[96m\u001B[34m-\u001B[0m\u001B[96m\u001B[34m-\u001B[0m\u001B[96m\u001B[34m-\u001B[0m\u001B[96m\u001B[34m-\u001B[0m\u001B[96m\u001B[34m-\u001B[0m\u001B[96m\u001B[34m-\u001B[0m\u001B[96m\u001B[34m-\u001B[0m\u001B[96m\u001B[34m-\u001B[0m\u001B[96m\u001B[34m-\u001B[0m\u001B[96m\u001B[34m-\u001B[0m\u001B[96m\u001B[34m-\u001B[0m\u001B[96m\u001B[34m-\u001B[0m\u001B[96m\u001B[34m-\u001B[0m\u001B[96m\u001B[34m-\u001B[0m\u001B[96m\u001B[34m-\u001B[0m\u001B[96m\u001B[34m-\u001B[0m\u001B[96m\u001B[34m-\u001B[0m\u001B[96m\u001B[34m-\u001B[0m\u001B[96m\u001B[34m-\u001B[0m\u001B[96m\u001B[34m-\u001B[0m\u001B[96m\u001B[34m-\u001B[0m\u001B[96m\u001B[34m-\u001B[0m\u001B[96m\u001B[34m-\u001B[0m\u001B[96m\u001B[34m-\u001B[0m\u001B[96m\u001B[34m-\u001B[0m\u001B[96m\u001B[36m+\u001B[0m\u001B[96m\u001B[34m-\u001B[0m\u001B[96m\u001B[34m-\u001B[0m\u001B[96m\u001B[34m-\u001B[0m\u001B[96m\u001B[34m-\u001B[0m\u001B[96m\u001B[34m-\u001B[0m\u001B[96m\u001B[34m-\u001B[0m\u001B[96m\u001B[34m-\u001B[0m\u001B[96m\u001B[34m-\u001B[0m\u001B[96m\u001B[34m-\u001B[0m\u001B[96m\u001B[34m-\u001B[0m\u001B[96m\u001B[34m-\u001B[0m\u001B[96m\u001B[34m-\u001B[0m\u001B[96m\u001B[34m-\u001B[0m\u001B[96m\u001B[34m-\u001B[0m\u001B[96m\u001B[34m-\u001B[0m\u001B[96m\u001B[34m-\u001B[0m\u001B[96m\u001B[34m-\u001B[0m\u001B[96m\u001B[34m-\u001B[0m\u001B[96m\u001B[34m-\u001B[0m\u001B[96m\u001B[34m-\u001B[0m\u001B[96m\u001B[34m-\u001B[0m\u001B[96m\u001B[36m+\u001B[0m\u001B[96m\u001B[34m-\u001B[0m\u001B[96m\u001B[34m-\u001B[0m\u001B[96m\u001B[34m-\u001B[0m\u001B[96m\u001B[34m-\u001B[0m\u001B[96m\u001B[34m-\u001B[0m\u001B[96m\u001B[34m-\u001B[0m\u001B[96m\u001B[34m-\u001B[0m\u001B[96m\u001B[34m-\u001B[0m\u001B[96m\u001B[34m-\u001B[0m\u001B[96m\u001B[34m-\u001B[0m\u001B[96m\u001B[34m-\u001B[0m\u001B[96m\u001B[34m-\u001B[0m\u001B[96m\u001B[34m-\u001B[0m\u001B[96m\u001B[34m-\u001B[0m\u001B[96m\u001B[34m-\u001B[0m\u001B[96m\u001B[34m-\u001B[0m\u001B[96m\u001B[34m-\u001B[0m\u001B[96m\u001B[34m-\u001B[0m\u001B[96m\u001B[34m-\u001B[0m\u001B[96m\u001B[34m-\u001B[0m\u001B[96m\u001B[34m-\u001B[0m\u001B[96m\u001B[34m-\u001B[0m\u001B[96m\u001B[34m-\u001B[0m\u001B[96m\u001B[34m-\u001B[0m\u001B[96m\u001B[34m-\u001B[0m\u001B[96m\u001B[34m-\u001B[0m\u001B[96m\u001B[34m-\u001B[0m\u001B[96m\u001B[36m+\u001B[0m\u001B[96m\u001B[34m-\u001B[0m\u001B[96m\u001B[34m-\u001B[0m\u001B[96m\u001B[34m-\u001B[0m\u001B[96m\u001B[34m-\u001B[0m\u001B[96m\u001B[34m-\u001B[0m\u001B[96m\u001B[34m-\u001B[0m\u001B[96m\u001B[34m-\u001B[0m\u001B[96m\u001B[34m-\u001B[0m\u001B[96m\u001B[34m-\u001B[0m\u001B[96m\u001B[34m-\u001B[0m\u001B[96m\u001B[34m-\u001B[0m\u001B[96m\u001B[36m+\u001B[0m\u001B[96m\u001B[34m-\u001B[0m\u001B[96m\u001B[34m-\u001B[0m\u001B[96m\u001B[34m-\u001B[0m\u001B[96m\u001B[34m-\u001B[0m\u001B[96m\u001B[34m-\u001B[0m\u001B[96m\u001B[34m-\u001B[0m\u001B[96m\u001B[34m-\u001B[0m\u001B[96m\u001B[34m-\u001B[0m\u001B[96m\u001B[34m-\u001B[0m\u001B[96m\u001B[34m-\u001B[0m\u001B[96m\u001B[34m-\u001B[0m\u001B[96m\u001B[34m-\u001B[0m\u001B[96m\u001B[34m-\u001B[0m\u001B[96m\u001B[34m-\u001B[0m\u001B[96m\u001B[34m-\u001B[0m\u001B[96m\u001B[34m-\u001B[0m\u001B[96m\u001B[34m-\u001B[0m\u001B[96m\u001B[34m-\u001B[0m\u001B[96m\u001B[34m-\u001B[0m\u001B[96m\u001B[34m-\u001B[0m\u001B[96m\u001B[34m-\u001B[0m\u001B[96m\u001B[34m-\u001B[0m\u001B[96m\u001B[34m-\u001B[0m\u001B[96m\u001B[34m-\u001B[0m\u001B[96m\u001B[34m-\u001B[0m\u001B[96m\u001B[34m-\u001B[0m\u001B[96m\u001B[34m-\u001B[0m\u001B[96m\u001B[34m-\u001B[0m\u001B[96m\u001B[34m-\u001B[0m\u001B[96m\u001B[34m-\u001B[0m\u001B[96m\u001B[34m-\u001B[0m\u001B[96m\u001B[36m+\u001B[0m\u001B[96m\n",
      "\u001B[34m|\u001B[0m\u001B[96m                            name                            \u001B[34m|\u001B[0m\u001B[96m       dataset       \u001B[34m|\u001B[0m\u001B[96m            type           \u001B[34m|\u001B[0m\u001B[96m installed \u001B[34m|\u001B[0m\u001B[96m            license            \u001B[34m|\u001B[0m\u001B[96m\n",
      "\u001B[36m+\u001B[0m\u001B[96m\u001B[34m-\u001B[0m\u001B[96m\u001B[34m-\u001B[0m\u001B[96m\u001B[34m-\u001B[0m\u001B[96m\u001B[34m-\u001B[0m\u001B[96m\u001B[34m-\u001B[0m\u001B[96m\u001B[34m-\u001B[0m\u001B[96m\u001B[34m-\u001B[0m\u001B[96m\u001B[34m-\u001B[0m\u001B[96m\u001B[34m-\u001B[0m\u001B[96m\u001B[34m-\u001B[0m\u001B[96m\u001B[34m-\u001B[0m\u001B[96m\u001B[34m-\u001B[0m\u001B[96m\u001B[34m-\u001B[0m\u001B[96m\u001B[34m-\u001B[0m\u001B[96m\u001B[34m-\u001B[0m\u001B[96m\u001B[34m-\u001B[0m\u001B[96m\u001B[34m-\u001B[0m\u001B[96m\u001B[34m-\u001B[0m\u001B[96m\u001B[34m-\u001B[0m\u001B[96m\u001B[34m-\u001B[0m\u001B[96m\u001B[34m-\u001B[0m\u001B[96m\u001B[34m-\u001B[0m\u001B[96m\u001B[34m-\u001B[0m\u001B[96m\u001B[34m-\u001B[0m\u001B[96m\u001B[34m-\u001B[0m\u001B[96m\u001B[34m-\u001B[0m\u001B[96m\u001B[34m-\u001B[0m\u001B[96m\u001B[34m-\u001B[0m\u001B[96m\u001B[34m-\u001B[0m\u001B[96m\u001B[34m-\u001B[0m\u001B[96m\u001B[34m-\u001B[0m\u001B[96m\u001B[34m-\u001B[0m\u001B[96m\u001B[34m-\u001B[0m\u001B[96m\u001B[34m-\u001B[0m\u001B[96m\u001B[34m-\u001B[0m\u001B[96m\u001B[34m-\u001B[0m\u001B[96m\u001B[34m-\u001B[0m\u001B[96m\u001B[34m-\u001B[0m\u001B[96m\u001B[34m-\u001B[0m\u001B[96m\u001B[34m-\u001B[0m\u001B[96m\u001B[34m-\u001B[0m\u001B[96m\u001B[34m-\u001B[0m\u001B[96m\u001B[34m-\u001B[0m\u001B[96m\u001B[34m-\u001B[0m\u001B[96m\u001B[34m-\u001B[0m\u001B[96m\u001B[34m-\u001B[0m\u001B[96m\u001B[34m-\u001B[0m\u001B[96m\u001B[34m-\u001B[0m\u001B[96m\u001B[34m-\u001B[0m\u001B[96m\u001B[34m-\u001B[0m\u001B[96m\u001B[34m-\u001B[0m\u001B[96m\u001B[34m-\u001B[0m\u001B[96m\u001B[34m-\u001B[0m\u001B[96m\u001B[34m-\u001B[0m\u001B[96m\u001B[34m-\u001B[0m\u001B[96m\u001B[34m-\u001B[0m\u001B[96m\u001B[34m-\u001B[0m\u001B[96m\u001B[34m-\u001B[0m\u001B[96m\u001B[34m-\u001B[0m\u001B[96m\u001B[34m-\u001B[0m\u001B[96m\u001B[36m+\u001B[0m\u001B[96m\u001B[34m-\u001B[0m\u001B[96m\u001B[34m-\u001B[0m\u001B[96m\u001B[34m-\u001B[0m\u001B[96m\u001B[34m-\u001B[0m\u001B[96m\u001B[34m-\u001B[0m\u001B[96m\u001B[34m-\u001B[0m\u001B[96m\u001B[34m-\u001B[0m\u001B[96m\u001B[34m-\u001B[0m\u001B[96m\u001B[34m-\u001B[0m\u001B[96m\u001B[34m-\u001B[0m\u001B[96m\u001B[34m-\u001B[0m\u001B[96m\u001B[34m-\u001B[0m\u001B[96m\u001B[34m-\u001B[0m\u001B[96m\u001B[34m-\u001B[0m\u001B[96m\u001B[34m-\u001B[0m\u001B[96m\u001B[34m-\u001B[0m\u001B[96m\u001B[34m-\u001B[0m\u001B[96m\u001B[34m-\u001B[0m\u001B[96m\u001B[34m-\u001B[0m\u001B[96m\u001B[34m-\u001B[0m\u001B[96m\u001B[34m-\u001B[0m\u001B[96m\u001B[36m+\u001B[0m\u001B[96m\u001B[34m-\u001B[0m\u001B[96m\u001B[34m-\u001B[0m\u001B[96m\u001B[34m-\u001B[0m\u001B[96m\u001B[34m-\u001B[0m\u001B[96m\u001B[34m-\u001B[0m\u001B[96m\u001B[34m-\u001B[0m\u001B[96m\u001B[34m-\u001B[0m\u001B[96m\u001B[34m-\u001B[0m\u001B[96m\u001B[34m-\u001B[0m\u001B[96m\u001B[34m-\u001B[0m\u001B[96m\u001B[34m-\u001B[0m\u001B[96m\u001B[34m-\u001B[0m\u001B[96m\u001B[34m-\u001B[0m\u001B[96m\u001B[34m-\u001B[0m\u001B[96m\u001B[34m-\u001B[0m\u001B[96m\u001B[34m-\u001B[0m\u001B[96m\u001B[34m-\u001B[0m\u001B[96m\u001B[34m-\u001B[0m\u001B[96m\u001B[34m-\u001B[0m\u001B[96m\u001B[34m-\u001B[0m\u001B[96m\u001B[34m-\u001B[0m\u001B[96m\u001B[34m-\u001B[0m\u001B[96m\u001B[34m-\u001B[0m\u001B[96m\u001B[34m-\u001B[0m\u001B[96m\u001B[34m-\u001B[0m\u001B[96m\u001B[34m-\u001B[0m\u001B[96m\u001B[34m-\u001B[0m\u001B[96m\u001B[36m+\u001B[0m\u001B[96m\u001B[34m-\u001B[0m\u001B[96m\u001B[34m-\u001B[0m\u001B[96m\u001B[34m-\u001B[0m\u001B[96m\u001B[34m-\u001B[0m\u001B[96m\u001B[34m-\u001B[0m\u001B[96m\u001B[34m-\u001B[0m\u001B[96m\u001B[34m-\u001B[0m\u001B[96m\u001B[34m-\u001B[0m\u001B[96m\u001B[34m-\u001B[0m\u001B[96m\u001B[34m-\u001B[0m\u001B[96m\u001B[34m-\u001B[0m\u001B[96m\u001B[36m+\u001B[0m\u001B[96m\u001B[34m-\u001B[0m\u001B[96m\u001B[34m-\u001B[0m\u001B[96m\u001B[34m-\u001B[0m\u001B[96m\u001B[34m-\u001B[0m\u001B[96m\u001B[34m-\u001B[0m\u001B[96m\u001B[34m-\u001B[0m\u001B[96m\u001B[34m-\u001B[0m\u001B[96m\u001B[34m-\u001B[0m\u001B[96m\u001B[34m-\u001B[0m\u001B[96m\u001B[34m-\u001B[0m\u001B[96m\u001B[34m-\u001B[0m\u001B[96m\u001B[34m-\u001B[0m\u001B[96m\u001B[34m-\u001B[0m\u001B[96m\u001B[34m-\u001B[0m\u001B[96m\u001B[34m-\u001B[0m\u001B[96m\u001B[34m-\u001B[0m\u001B[96m\u001B[34m-\u001B[0m\u001B[96m\u001B[34m-\u001B[0m\u001B[96m\u001B[34m-\u001B[0m\u001B[96m\u001B[34m-\u001B[0m\u001B[96m\u001B[34m-\u001B[0m\u001B[96m\u001B[34m-\u001B[0m\u001B[96m\u001B[34m-\u001B[0m\u001B[96m\u001B[34m-\u001B[0m\u001B[96m\u001B[34m-\u001B[0m\u001B[96m\u001B[34m-\u001B[0m\u001B[96m\u001B[34m-\u001B[0m\u001B[96m\u001B[34m-\u001B[0m\u001B[96m\u001B[34m-\u001B[0m\u001B[96m\u001B[34m-\u001B[0m\u001B[96m\u001B[34m-\u001B[0m\u001B[96m\u001B[36m+\u001B[0m\u001B[96m\n",
      "\u001B[34m|\u001B[0m\u001B[96m                  idle_action_recognition                   \u001B[34m|\u001B[0m\u001B[96m     idle_action     \u001B[34m|\u001B[0m\u001B[96m       classification      \u001B[34m|\u001B[0m\u001B[96m    True   \u001B[34m|\u001B[0m\u001B[96m          CC_BY_NC_4_0         \u001B[34m|\u001B[0m\u001B[96m\n",
      "\u001B[34m|\u001B[0m\u001B[96m             bean_plant_disease_classification              \u001B[34m|\u001B[0m\u001B[96m        ibean        \u001B[34m|\u001B[0m\u001B[96m       classification      \u001B[34m|\u001B[0m\u001B[96m    True   \u001B[34m|\u001B[0m\u001B[96m              MIT              \u001B[34m|\u001B[0m\u001B[96m\n",
      "\u001B[34m|\u001B[0m\u001B[96m              caltech101_object_classification              \u001B[34m|\u001B[0m\u001B[96m      caltech101     \u001B[34m|\u001B[0m\u001B[96m       classification      \u001B[34m|\u001B[0m\u001B[96m    True   \u001B[34m|\u001B[0m\u001B[96m            UNKNOWN            \u001B[34m|\u001B[0m\u001B[96m\n",
      "\u001B[34m|\u001B[0m\u001B[96m               cifar10_object_classification                \u001B[34m|\u001B[0m\u001B[96m       cifar10       \u001B[34m|\u001B[0m\u001B[96m       classification      \u001B[34m|\u001B[0m\u001B[96m    True   \u001B[34m|\u001B[0m\u001B[96m            UNKNOWN            \u001B[34m|\u001B[0m\u001B[96m\n",
      "\u001B[34m|\u001B[0m\u001B[96m               cifar100_object_classification               \u001B[34m|\u001B[0m\u001B[96m       cifar100      \u001B[34m|\u001B[0m\u001B[96m       classification      \u001B[34m|\u001B[0m\u001B[96m    True   \u001B[34m|\u001B[0m\u001B[96m            UNKNOWN            \u001B[34m|\u001B[0m\u001B[96m\n",
      "\u001B[34m|\u001B[0m\u001B[96m                    sklin2_skin_lesions                     \u001B[34m|\u001B[0m\u001B[96m        sklin2       \u001B[34m|\u001B[0m\u001B[96m       classification      \u001B[34m|\u001B[0m\u001B[96m    True   \u001B[34m|\u001B[0m\u001B[96m            UNKNOWN            \u001B[34m|\u001B[0m\u001B[96m\n",
      "\u001B[34m|\u001B[0m\u001B[96m                barretts_esophagus_diagnosis                \u001B[34m|\u001B[0m\u001B[96m  barretts_esophagus \u001B[34m|\u001B[0m\u001B[96m       classification      \u001B[34m|\u001B[0m\u001B[96m    True   \u001B[34m|\u001B[0m\u001B[96m            UNKNOWN            \u001B[34m|\u001B[0m\u001B[96m\n",
      "\u001B[34m|\u001B[0m\u001B[96m                       mura_xr_wrist                        \u001B[34m|\u001B[0m\u001B[96m         mura        \u001B[34m|\u001B[0m\u001B[96m       classification      \u001B[34m|\u001B[0m\u001B[96m    True   \u001B[34m|\u001B[0m\u001B[96m            UNKNOWN            \u001B[34m|\u001B[0m\u001B[96m\n",
      "\u001B[34m|\u001B[0m\u001B[96m                      mura_xr_shoulder                      \u001B[34m|\u001B[0m\u001B[96m         mura        \u001B[34m|\u001B[0m\u001B[96m       classification      \u001B[34m|\u001B[0m\u001B[96m    True   \u001B[34m|\u001B[0m\u001B[96m            UNKNOWN            \u001B[34m|\u001B[0m\u001B[96m\n",
      "\u001B[34m|\u001B[0m\u001B[96m                      mura_xr_humerus                       \u001B[34m|\u001B[0m\u001B[96m         mura        \u001B[34m|\u001B[0m\u001B[96m       classification      \u001B[34m|\u001B[0m\u001B[96m    True   \u001B[34m|\u001B[0m\u001B[96m            UNKNOWN            \u001B[34m|\u001B[0m\u001B[96m\n",
      "\u001B[34m|\u001B[0m\u001B[96m                        mura_xr_hand                        \u001B[34m|\u001B[0m\u001B[96m         mura        \u001B[34m|\u001B[0m\u001B[96m       classification      \u001B[34m|\u001B[0m\u001B[96m    True   \u001B[34m|\u001B[0m\u001B[96m            UNKNOWN            \u001B[34m|\u001B[0m\u001B[96m\n",
      "\u001B[34m|\u001B[0m\u001B[96m                      mura_xr_forearm                       \u001B[34m|\u001B[0m\u001B[96m         mura        \u001B[34m|\u001B[0m\u001B[96m       classification      \u001B[34m|\u001B[0m\u001B[96m    True   \u001B[34m|\u001B[0m\u001B[96m            UNKNOWN            \u001B[34m|\u001B[0m\u001B[96m\n",
      "\u001B[34m|\u001B[0m\u001B[96m                       mura_xr_finger                       \u001B[34m|\u001B[0m\u001B[96m         mura        \u001B[34m|\u001B[0m\u001B[96m       classification      \u001B[34m|\u001B[0m\u001B[96m    True   \u001B[34m|\u001B[0m\u001B[96m            UNKNOWN            \u001B[34m|\u001B[0m\u001B[96m\n",
      "\u001B[34m|\u001B[0m\u001B[96m                       mura_xr_elbow                        \u001B[34m|\u001B[0m\u001B[96m         mura        \u001B[34m|\u001B[0m\u001B[96m       classification      \u001B[34m|\u001B[0m\u001B[96m    True   \u001B[34m|\u001B[0m\u001B[96m            UNKNOWN            \u001B[34m|\u001B[0m\u001B[96m\n",
      "\u001B[34m|\u001B[0m\u001B[96m                eye_condition_classification                \u001B[34m|\u001B[0m\u001B[96m       cataract      \u001B[34m|\u001B[0m\u001B[96m       classification      \u001B[34m|\u001B[0m\u001B[96m    True   \u001B[34m|\u001B[0m\u001B[96m            UNKNOWN            \u001B[34m|\u001B[0m\u001B[96m\n",
      "\u001B[34m|\u001B[0m\u001B[96m                 brain_tumor_classification                 \u001B[34m|\u001B[0m\u001B[96m     brain_tumor     \u001B[34m|\u001B[0m\u001B[96m       classification      \u001B[34m|\u001B[0m\u001B[96m    True   \u001B[34m|\u001B[0m\u001B[96m        CC_BY_NC_SA_4_0        \u001B[34m|\u001B[0m\u001B[96m\n",
      "\u001B[34m|\u001B[0m\u001B[96m                    derm7pt_skin_lesions                    \u001B[34m|\u001B[0m\u001B[96m       derm7pt       \u001B[34m|\u001B[0m\u001B[96m       classification      \u001B[34m|\u001B[0m\u001B[96m    True   \u001B[34m|\u001B[0m\u001B[96m            UNKNOWN            \u001B[34m|\u001B[0m\u001B[96m\n",
      "\u001B[34m|\u001B[0m\u001B[96m          covid-19-chest-ct-image-augmentation_raw          \u001B[34m|\u001B[0m\u001B[96m    covid_chest_ct   \u001B[34m|\u001B[0m\u001B[96m       classification      \u001B[34m|\u001B[0m\u001B[96m    True   \u001B[34m|\u001B[0m\u001B[96m DATABASE_CONTENTS_LICENSE_1_0 \u001B[34m|\u001B[0m\u001B[96m\n",
      "\u001B[34m|\u001B[0m\u001B[96m          covid-19-chest-ct-image-augmentation_Aug          \u001B[34m|\u001B[0m\u001B[96m    covid_chest_ct   \u001B[34m|\u001B[0m\u001B[96m       classification      \u001B[34m|\u001B[0m\u001B[96m    True   \u001B[34m|\u001B[0m\u001B[96m DATABASE_CONTENTS_LICENSE_1_0 \u001B[34m|\u001B[0m\u001B[96m\n",
      "\u001B[34m|\u001B[0m\u001B[96m         covid-19-chest-ct-image-augmentation_CGAN          \u001B[34m|\u001B[0m\u001B[96m    covid_chest_ct   \u001B[34m|\u001B[0m\u001B[96m       classification      \u001B[34m|\u001B[0m\u001B[96m    True   \u001B[34m|\u001B[0m\u001B[96m DATABASE_CONTENTS_LICENSE_1_0 \u001B[34m|\u001B[0m\u001B[96m\n",
      "\u001B[34m|\u001B[0m\u001B[96m       covid-19-chest-ct-image-augmentation_Aug&CGAN        \u001B[34m|\u001B[0m\u001B[96m    covid_chest_ct   \u001B[34m|\u001B[0m\u001B[96m       classification      \u001B[34m|\u001B[0m\u001B[96m    True   \u001B[34m|\u001B[0m\u001B[96m DATABASE_CONTENTS_LICENSE_1_0 \u001B[34m|\u001B[0m\u001B[96m\n",
      "\u001B[34m|\u001B[0m\u001B[96m                     deep_drid_quality                      \u001B[34m|\u001B[0m\u001B[96m      deep_drid      \u001B[34m|\u001B[0m\u001B[96m       classification      \u001B[34m|\u001B[0m\u001B[96m    True   \u001B[34m|\u001B[0m\u001B[96m           CC_BY_4_0           \u001B[34m|\u001B[0m\u001B[96m\n",
      "\u001B[34m|\u001B[0m\u001B[96m                     deep_drid_dr_level                     \u001B[34m|\u001B[0m\u001B[96m      deep_drid      \u001B[34m|\u001B[0m\u001B[96m       classification      \u001B[34m|\u001B[0m\u001B[96m    True   \u001B[34m|\u001B[0m\u001B[96m           CC_BY_4_0           \u001B[34m|\u001B[0m\u001B[96m\n",
      "\u001B[34m|\u001B[0m\u001B[96m                     deep_drid_clarity                      \u001B[34m|\u001B[0m\u001B[96m      deep_drid      \u001B[34m|\u001B[0m\u001B[96m       classification      \u001B[34m|\u001B[0m\u001B[96m    True   \u001B[34m|\u001B[0m\u001B[96m           CC_BY_4_0           \u001B[34m|\u001B[0m\u001B[96m\n",
      "\u001B[34m|\u001B[0m\u001B[96m                      deep_drid_field                       \u001B[34m|\u001B[0m\u001B[96m      deep_drid      \u001B[34m|\u001B[0m\u001B[96m       classification      \u001B[34m|\u001B[0m\u001B[96m    True   \u001B[34m|\u001B[0m\u001B[96m           CC_BY_4_0           \u001B[34m|\u001B[0m\u001B[96m\n",
      "\u001B[34m|\u001B[0m\u001B[96m                     deep_drid_artifact                     \u001B[34m|\u001B[0m\u001B[96m      deep_drid      \u001B[34m|\u001B[0m\u001B[96m       classification      \u001B[34m|\u001B[0m\u001B[96m    True   \u001B[34m|\u001B[0m\u001B[96m           CC_BY_4_0           \u001B[34m|\u001B[0m\u001B[96m\n",
      "\u001B[34m|\u001B[0m\u001B[96m              caltech256_object_classification              \u001B[34m|\u001B[0m\u001B[96m      caltech256     \u001B[34m|\u001B[0m\u001B[96m       classification      \u001B[34m|\u001B[0m\u001B[96m    True   \u001B[34m|\u001B[0m\u001B[96m            UNKNOWN            \u001B[34m|\u001B[0m\u001B[96m\n",
      "\u001B[34m|\u001B[0m\u001B[96m                emnist_digit_classification                 \u001B[34m|\u001B[0m\u001B[96m        emnist       \u001B[34m|\u001B[0m\u001B[96m       classification      \u001B[34m|\u001B[0m\u001B[96m    True   \u001B[34m|\u001B[0m\u001B[96m            UNKNOWN            \u001B[34m|\u001B[0m\u001B[96m\n",
      "\u001B[34m|\u001B[0m\u001B[96m                   kvasir_capsule_anatomy                   \u001B[34m|\u001B[0m\u001B[96m    kvasir_capsule   \u001B[34m|\u001B[0m\u001B[96m       classification      \u001B[34m|\u001B[0m\u001B[96m    True   \u001B[34m|\u001B[0m\u001B[96m           CC_BY_4_0           \u001B[34m|\u001B[0m\u001B[96m\n",
      "\u001B[34m|\u001B[0m\u001B[96m                   kvasir_capsule_content                   \u001B[34m|\u001B[0m\u001B[96m    kvasir_capsule   \u001B[34m|\u001B[0m\u001B[96m       classification      \u001B[34m|\u001B[0m\u001B[96m    True   \u001B[34m|\u001B[0m\u001B[96m           CC_BY_4_0           \u001B[34m|\u001B[0m\u001B[96m\n",
      "\u001B[34m|\u001B[0m\u001B[96m                 kvasir_capsule_pathologies                 \u001B[34m|\u001B[0m\u001B[96m    kvasir_capsule   \u001B[34m|\u001B[0m\u001B[96m       classification      \u001B[34m|\u001B[0m\u001B[96m    True   \u001B[34m|\u001B[0m\u001B[96m           CC_BY_4_0           \u001B[34m|\u001B[0m\u001B[96m\n",
      "\u001B[34m|\u001B[0m\u001B[96m                 suncolondb-classification                  \u001B[34m|\u001B[0m\u001B[96m     SUNdatabase     \u001B[34m|\u001B[0m\u001B[96m       classification      \u001B[34m|\u001B[0m\u001B[96m   False   \u001B[34m|\u001B[0m\u001B[96m             CUSTOM            \u001B[34m|\u001B[0m\u001B[96m\n",
      "\u001B[34m|\u001B[0m\u001B[96m              brain_tumor_type_classification               \u001B[34m|\u001B[0m\u001B[96m   brain_tumor_type  \u001B[34m|\u001B[0m\u001B[96m       classification      \u001B[34m|\u001B[0m\u001B[96m    True   \u001B[34m|\u001B[0m\u001B[96m           CC_BY_4_0           \u001B[34m|\u001B[0m\u001B[96m\n",
      "\u001B[34m|\u001B[0m\u001B[96m              breast_cancer_classification_v2               \u001B[34m|\u001B[0m\u001B[96m  breast_ultrasound  \u001B[34m|\u001B[0m\u001B[96m       classification      \u001B[34m|\u001B[0m\u001B[96m    True   \u001B[34m|\u001B[0m\u001B[96m            CC_0_1_0           \u001B[34m|\u001B[0m\u001B[96m\n",
      "\u001B[34m|\u001B[0m\u001B[96m             stanford_dogs_image_categorization             \u001B[34m|\u001B[0m\u001B[96m    stanford_dogs    \u001B[34m|\u001B[0m\u001B[96m       classification      \u001B[34m|\u001B[0m\u001B[96m    True   \u001B[34m|\u001B[0m\u001B[96m            UNKNOWN            \u001B[34m|\u001B[0m\u001B[96m\n",
      "\u001B[34m|\u001B[0m\u001B[96m              hyperkvasir_anatomical-landmarks              \u001B[34m|\u001B[0m\u001B[96m     hyperkvasir     \u001B[34m|\u001B[0m\u001B[96m       classification      \u001B[34m|\u001B[0m\u001B[96m    True   \u001B[34m|\u001B[0m\u001B[96m           CC_BY_4_0           \u001B[34m|\u001B[0m\u001B[96m\n",
      "\u001B[34m|\u001B[0m\u001B[96m             hyperkvasir_pathological-findings              \u001B[34m|\u001B[0m\u001B[96m     hyperkvasir     \u001B[34m|\u001B[0m\u001B[96m       classification      \u001B[34m|\u001B[0m\u001B[96m    True   \u001B[34m|\u001B[0m\u001B[96m           CC_BY_4_0           \u001B[34m|\u001B[0m\u001B[96m\n",
      "\u001B[34m|\u001B[0m\u001B[96m            hyperkvasir_quality-of-mucosal-views            \u001B[34m|\u001B[0m\u001B[96m     hyperkvasir     \u001B[34m|\u001B[0m\u001B[96m       classification      \u001B[34m|\u001B[0m\u001B[96m    True   \u001B[34m|\u001B[0m\u001B[96m           CC_BY_4_0           \u001B[34m|\u001B[0m\u001B[96m\n",
      "\u001B[34m|\u001B[0m\u001B[96m           hyperkvasir_therapeutic-interventions            \u001B[34m|\u001B[0m\u001B[96m     hyperkvasir     \u001B[34m|\u001B[0m\u001B[96m       classification      \u001B[34m|\u001B[0m\u001B[96m    True   \u001B[34m|\u001B[0m\u001B[96m           CC_BY_4_0           \u001B[34m|\u001B[0m\u001B[96m\n",
      "\u001B[34m|\u001B[0m\u001B[96m              nerthus_bowel_cleansing_quality               \u001B[34m|\u001B[0m\u001B[96m       nerthus       \u001B[34m|\u001B[0m\u001B[96m       classification      \u001B[34m|\u001B[0m\u001B[96m    True   \u001B[34m|\u001B[0m\u001B[96m            UNKNOWN            \u001B[34m|\u001B[0m\u001B[96m\n",
      "\u001B[34m|\u001B[0m\u001B[96m                 cervix_type_classification                 \u001B[34m|\u001B[0m\u001B[96m  cervical_screening \u001B[34m|\u001B[0m\u001B[96m       classification      \u001B[34m|\u001B[0m\u001B[96m   False   \u001B[34m|\u001B[0m\u001B[96m            UNKNOWN            \u001B[34m|\u001B[0m\u001B[96m\n",
      "\u001B[34m|\u001B[0m\u001B[96m                     laryngeal_tissues                      \u001B[34m|\u001B[0m\u001B[96m      laryngeal      \u001B[34m|\u001B[0m\u001B[96m       classification      \u001B[34m|\u001B[0m\u001B[96m    True   \u001B[34m|\u001B[0m\u001B[96m          CC_BY_NC_4_0         \u001B[34m|\u001B[0m\u001B[96m\n",
      "\u001B[34m|\u001B[0m\u001B[96m              laryngeal_tissues_original_folds              \u001B[34m|\u001B[0m\u001B[96m      laryngeal      \u001B[34m|\u001B[0m\u001B[96m       classification      \u001B[34m|\u001B[0m\u001B[96m    True   \u001B[34m|\u001B[0m\u001B[96m          CC_BY_NC_4_0         \u001B[34m|\u001B[0m\u001B[96m\n",
      "\u001B[34m|\u001B[0m\u001B[96m                  pneumonia_classification                  \u001B[34m|\u001B[0m\u001B[96m      pneumonia      \u001B[34m|\u001B[0m\u001B[96m       classification      \u001B[34m|\u001B[0m\u001B[96m    True   \u001B[34m|\u001B[0m\u001B[96m           CC_BY_4_0           \u001B[34m|\u001B[0m\u001B[96m\n",
      "\u001B[34m|\u001B[0m\u001B[96m               lapgyn4_anatomical_structures                \u001B[34m|\u001B[0m\u001B[96m       lapgyn4       \u001B[34m|\u001B[0m\u001B[96m       classification      \u001B[34m|\u001B[0m\u001B[96m    True   \u001B[34m|\u001B[0m\u001B[96m          CC_BY_NC_4_0         \u001B[34m|\u001B[0m\u001B[96m\n",
      "\u001B[34m|\u001B[0m\u001B[96m                  lapgyn4_surgical_actions                  \u001B[34m|\u001B[0m\u001B[96m       lapgyn4       \u001B[34m|\u001B[0m\u001B[96m       classification      \u001B[34m|\u001B[0m\u001B[96m    True   \u001B[34m|\u001B[0m\u001B[96m          CC_BY_NC_4_0         \u001B[34m|\u001B[0m\u001B[96m\n",
      "\u001B[34m|\u001B[0m\u001B[96m                  lapgyn4_instrument_count                  \u001B[34m|\u001B[0m\u001B[96m       lapgyn4       \u001B[34m|\u001B[0m\u001B[96m       classification      \u001B[34m|\u001B[0m\u001B[96m    True   \u001B[34m|\u001B[0m\u001B[96m          CC_BY_NC_4_0         \u001B[34m|\u001B[0m\u001B[96m\n",
      "\u001B[34m|\u001B[0m\u001B[96m                 lapgyn4_anatomical_actions                 \u001B[34m|\u001B[0m\u001B[96m       lapgyn4       \u001B[34m|\u001B[0m\u001B[96m       classification      \u001B[34m|\u001B[0m\u001B[96m    True   \u001B[34m|\u001B[0m\u001B[96m          CC_BY_NC_4_0         \u001B[34m|\u001B[0m\u001B[96m\n",
      "\u001B[34m|\u001B[0m\u001B[96m              shenzen_chest_xray_tuberculosis               \u001B[34m|\u001B[0m\u001B[96m   shenzhen_xray_tb  \u001B[34m|\u001B[0m\u001B[96m       classification      \u001B[34m|\u001B[0m\u001B[96m    True   \u001B[34m|\u001B[0m\u001B[96m            UNKNOWN            \u001B[34m|\u001B[0m\u001B[96m\n",
      "\u001B[34m|\u001B[0m\u001B[96m                     cholect45_triplet                      \u001B[34m|\u001B[0m\u001B[96m      cholect45      \u001B[34m|\u001B[0m\u001B[96m multilabel_classification \u001B[34m|\u001B[0m\u001B[96m    True   \u001B[34m|\u001B[0m\u001B[96m        CC_BY_NC_SA_4_0        \u001B[34m|\u001B[0m\u001B[96m\n",
      "\u001B[34m|\u001B[0m\u001B[96m                    cholect45_instrument                    \u001B[34m|\u001B[0m\u001B[96m      cholect45      \u001B[34m|\u001B[0m\u001B[96m multilabel_classification \u001B[34m|\u001B[0m\u001B[96m    True   \u001B[34m|\u001B[0m\u001B[96m        CC_BY_NC_SA_4_0        \u001B[34m|\u001B[0m\u001B[96m\n",
      "\u001B[34m|\u001B[0m\u001B[96m                       cholect45_verb                       \u001B[34m|\u001B[0m\u001B[96m      cholect45      \u001B[34m|\u001B[0m\u001B[96m multilabel_classification \u001B[34m|\u001B[0m\u001B[96m    True   \u001B[34m|\u001B[0m\u001B[96m        CC_BY_NC_SA_4_0        \u001B[34m|\u001B[0m\u001B[96m\n",
      "\u001B[34m|\u001B[0m\u001B[96m                      cholect45_target                      \u001B[34m|\u001B[0m\u001B[96m      cholect45      \u001B[34m|\u001B[0m\u001B[96m multilabel_classification \u001B[34m|\u001B[0m\u001B[96m    True   \u001B[34m|\u001B[0m\u001B[96m        CC_BY_NC_SA_4_0        \u001B[34m|\u001B[0m\u001B[96m\n",
      "\u001B[34m|\u001B[0m\u001B[96m                   cholect45_triplet_soft                   \u001B[34m|\u001B[0m\u001B[96m      cholect45      \u001B[34m|\u001B[0m\u001B[96m multilabel_classification \u001B[34m|\u001B[0m\u001B[96m    True   \u001B[34m|\u001B[0m\u001B[96m        CC_BY_NC_SA_4_0        \u001B[34m|\u001B[0m\u001B[96m\n",
      "\u001B[34m|\u001B[0m\u001B[96m                            svhn                            \u001B[34m|\u001B[0m\u001B[96m         svhn        \u001B[34m|\u001B[0m\u001B[96m       classification      \u001B[34m|\u001B[0m\u001B[96m    True   \u001B[34m|\u001B[0m\u001B[96m            UNKNOWN            \u001B[34m|\u001B[0m\u001B[96m\n",
      "\u001B[34m|\u001B[0m\u001B[96m                 cholec80_grasper_presence                  \u001B[34m|\u001B[0m\u001B[96m       cholec80      \u001B[34m|\u001B[0m\u001B[96m       classification      \u001B[34m|\u001B[0m\u001B[96m    True   \u001B[34m|\u001B[0m\u001B[96m        CC_BY_NC_SA_4_0        \u001B[34m|\u001B[0m\u001B[96m\n",
      "\u001B[34m|\u001B[0m\u001B[96m                 cholec80_bipolar_presence                  \u001B[34m|\u001B[0m\u001B[96m       cholec80      \u001B[34m|\u001B[0m\u001B[96m       classification      \u001B[34m|\u001B[0m\u001B[96m    True   \u001B[34m|\u001B[0m\u001B[96m        CC_BY_NC_SA_4_0        \u001B[34m|\u001B[0m\u001B[96m\n",
      "\u001B[34m|\u001B[0m\u001B[96m                   cholec80_hook_presence                   \u001B[34m|\u001B[0m\u001B[96m       cholec80      \u001B[34m|\u001B[0m\u001B[96m       classification      \u001B[34m|\u001B[0m\u001B[96m    True   \u001B[34m|\u001B[0m\u001B[96m        CC_BY_NC_SA_4_0        \u001B[34m|\u001B[0m\u001B[96m\n",
      "\u001B[34m|\u001B[0m\u001B[96m                 cholec80_scissors_presence                 \u001B[34m|\u001B[0m\u001B[96m       cholec80      \u001B[34m|\u001B[0m\u001B[96m       classification      \u001B[34m|\u001B[0m\u001B[96m    True   \u001B[34m|\u001B[0m\u001B[96m        CC_BY_NC_SA_4_0        \u001B[34m|\u001B[0m\u001B[96m\n",
      "\u001B[34m|\u001B[0m\u001B[96m                 cholec80_clipper_presence                  \u001B[34m|\u001B[0m\u001B[96m       cholec80      \u001B[34m|\u001B[0m\u001B[96m       classification      \u001B[34m|\u001B[0m\u001B[96m    True   \u001B[34m|\u001B[0m\u001B[96m        CC_BY_NC_SA_4_0        \u001B[34m|\u001B[0m\u001B[96m\n",
      "\u001B[34m|\u001B[0m\u001B[96m                cholec80_irrigator_presence                 \u001B[34m|\u001B[0m\u001B[96m       cholec80      \u001B[34m|\u001B[0m\u001B[96m       classification      \u001B[34m|\u001B[0m\u001B[96m    True   \u001B[34m|\u001B[0m\u001B[96m        CC_BY_NC_SA_4_0        \u001B[34m|\u001B[0m\u001B[96m\n",
      "\u001B[34m|\u001B[0m\u001B[96m               cholec80_specimenbag_presence                \u001B[34m|\u001B[0m\u001B[96m       cholec80      \u001B[34m|\u001B[0m\u001B[96m       classification      \u001B[34m|\u001B[0m\u001B[96m    True   \u001B[34m|\u001B[0m\u001B[96m        CC_BY_NC_SA_4_0        \u001B[34m|\u001B[0m\u001B[96m\n",
      "\u001B[34m|\u001B[0m\u001B[96m            chexpert_enlarged_cardiomediastinum             \u001B[34m|\u001B[0m\u001B[96m       chexpert      \u001B[34m|\u001B[0m\u001B[96m       classification      \u001B[34m|\u001B[0m\u001B[96m    True   \u001B[34m|\u001B[0m\u001B[96m            UNKNOWN            \u001B[34m|\u001B[0m\u001B[96m\n",
      "\u001B[34m|\u001B[0m\u001B[96m                   chexpert_cardiomegaly                    \u001B[34m|\u001B[0m\u001B[96m       chexpert      \u001B[34m|\u001B[0m\u001B[96m       classification      \u001B[34m|\u001B[0m\u001B[96m    True   \u001B[34m|\u001B[0m\u001B[96m            UNKNOWN            \u001B[34m|\u001B[0m\u001B[96m\n",
      "\u001B[34m|\u001B[0m\u001B[96m                   chexpert_lung_opacity                    \u001B[34m|\u001B[0m\u001B[96m       chexpert      \u001B[34m|\u001B[0m\u001B[96m       classification      \u001B[34m|\u001B[0m\u001B[96m    True   \u001B[34m|\u001B[0m\u001B[96m            UNKNOWN            \u001B[34m|\u001B[0m\u001B[96m\n",
      "\u001B[34m|\u001B[0m\u001B[96m                    chexpert_lung_lesion                    \u001B[34m|\u001B[0m\u001B[96m       chexpert      \u001B[34m|\u001B[0m\u001B[96m       classification      \u001B[34m|\u001B[0m\u001B[96m    True   \u001B[34m|\u001B[0m\u001B[96m            UNKNOWN            \u001B[34m|\u001B[0m\u001B[96m\n",
      "\u001B[34m|\u001B[0m\u001B[96m                       chexpert_edema                       \u001B[34m|\u001B[0m\u001B[96m       chexpert      \u001B[34m|\u001B[0m\u001B[96m       classification      \u001B[34m|\u001B[0m\u001B[96m    True   \u001B[34m|\u001B[0m\u001B[96m            UNKNOWN            \u001B[34m|\u001B[0m\u001B[96m\n",
      "\u001B[34m|\u001B[0m\u001B[96m                   chexpert_consolidation                   \u001B[34m|\u001B[0m\u001B[96m       chexpert      \u001B[34m|\u001B[0m\u001B[96m       classification      \u001B[34m|\u001B[0m\u001B[96m    True   \u001B[34m|\u001B[0m\u001B[96m            UNKNOWN            \u001B[34m|\u001B[0m\u001B[96m\n",
      "\u001B[34m|\u001B[0m\u001B[96m                     chexpert_pneumonia                     \u001B[34m|\u001B[0m\u001B[96m       chexpert      \u001B[34m|\u001B[0m\u001B[96m       classification      \u001B[34m|\u001B[0m\u001B[96m    True   \u001B[34m|\u001B[0m\u001B[96m            UNKNOWN            \u001B[34m|\u001B[0m\u001B[96m\n",
      "\u001B[34m|\u001B[0m\u001B[96m                    chexpert_atelectasis                    \u001B[34m|\u001B[0m\u001B[96m       chexpert      \u001B[34m|\u001B[0m\u001B[96m       classification      \u001B[34m|\u001B[0m\u001B[96m    True   \u001B[34m|\u001B[0m\u001B[96m            UNKNOWN            \u001B[34m|\u001B[0m\u001B[96m\n",
      "\u001B[34m|\u001B[0m\u001B[96m                   chexpert_pneumothorax                    \u001B[34m|\u001B[0m\u001B[96m       chexpert      \u001B[34m|\u001B[0m\u001B[96m       classification      \u001B[34m|\u001B[0m\u001B[96m    True   \u001B[34m|\u001B[0m\u001B[96m            UNKNOWN            \u001B[34m|\u001B[0m\u001B[96m\n",
      "\u001B[34m|\u001B[0m\u001B[96m                 chexpert_pleural_effusion                  \u001B[34m|\u001B[0m\u001B[96m       chexpert      \u001B[34m|\u001B[0m\u001B[96m       classification      \u001B[34m|\u001B[0m\u001B[96m    True   \u001B[34m|\u001B[0m\u001B[96m            UNKNOWN            \u001B[34m|\u001B[0m\u001B[96m\n",
      "\u001B[34m|\u001B[0m\u001B[96m                   chexpert_pleural_other                   \u001B[34m|\u001B[0m\u001B[96m       chexpert      \u001B[34m|\u001B[0m\u001B[96m       classification      \u001B[34m|\u001B[0m\u001B[96m    True   \u001B[34m|\u001B[0m\u001B[96m            UNKNOWN            \u001B[34m|\u001B[0m\u001B[96m\n",
      "\u001B[34m|\u001B[0m\u001B[96m                     chexpert_fracture                      \u001B[34m|\u001B[0m\u001B[96m       chexpert      \u001B[34m|\u001B[0m\u001B[96m       classification      \u001B[34m|\u001B[0m\u001B[96m    True   \u001B[34m|\u001B[0m\u001B[96m            UNKNOWN            \u001B[34m|\u001B[0m\u001B[96m\n",
      "\u001B[34m|\u001B[0m\u001B[96m                  chexpert_support_devices                  \u001B[34m|\u001B[0m\u001B[96m       chexpert      \u001B[34m|\u001B[0m\u001B[96m       classification      \u001B[34m|\u001B[0m\u001B[96m    True   \u001B[34m|\u001B[0m\u001B[96m            UNKNOWN            \u001B[34m|\u001B[0m\u001B[96m\n",
      "\u001B[34m|\u001B[0m\u001B[96m                   identify_nbi_infframes                   \u001B[34m|\u001B[0m\u001B[96m    nbi_infframes    \u001B[34m|\u001B[0m\u001B[96m       classification      \u001B[34m|\u001B[0m\u001B[96m    True   \u001B[34m|\u001B[0m\u001B[96m          CC_BY_NC_4_0         \u001B[34m|\u001B[0m\u001B[96m\n",
      "\u001B[34m|\u001B[0m\u001B[96m           identify_nbi_infframes_original_folds            \u001B[34m|\u001B[0m\u001B[96m    nbi_infframes    \u001B[34m|\u001B[0m\u001B[96m       classification      \u001B[34m|\u001B[0m\u001B[96m   False   \u001B[34m|\u001B[0m\u001B[96m          CC_BY_NC_4_0         \u001B[34m|\u001B[0m\u001B[96m\n",
      "\u001B[34m|\u001B[0m\u001B[96m                 covid_xray_classification                  \u001B[34m|\u001B[0m\u001B[96m      covid_xray     \u001B[34m|\u001B[0m\u001B[96m       classification      \u001B[34m|\u001B[0m\u001B[96m    True   \u001B[34m|\u001B[0m\u001B[96m            CC_0_1_0           \u001B[34m|\u001B[0m\u001B[96m\n",
      "\u001B[34m|\u001B[0m\u001B[96m                aptos19_blindness_detection                 \u001B[34m|\u001B[0m\u001B[96m   aptos_blindness   \u001B[34m|\u001B[0m\u001B[96m       classification      \u001B[34m|\u001B[0m\u001B[96m    True   \u001B[34m|\u001B[0m\u001B[96m            UNKNOWN            \u001B[34m|\u001B[0m\u001B[96m\n",
      "\u001B[34m|\u001B[0m\u001B[96m               isic20_melanoma_classification               \u001B[34m|\u001B[0m\u001B[96m        isic20       \u001B[34m|\u001B[0m\u001B[96m       classification      \u001B[34m|\u001B[0m\u001B[96m    True   \u001B[34m|\u001B[0m\u001B[96m          CC_BY_NC_4_0         \u001B[34m|\u001B[0m\u001B[96m\n",
      "\u001B[34m|\u001B[0m\u001B[96m                 mnist_digit_classification                 \u001B[34m|\u001B[0m\u001B[96m        mnist        \u001B[34m|\u001B[0m\u001B[96m       classification      \u001B[34m|\u001B[0m\u001B[96m    True   \u001B[34m|\u001B[0m\u001B[96m            UNKNOWN            \u001B[34m|\u001B[0m\u001B[96m\n",
      "\u001B[34m|\u001B[0m\u001B[96m              crawled_covid_ct_classification               \u001B[34m|\u001B[0m\u001B[96m   covid_ct_crawled  \u001B[34m|\u001B[0m\u001B[96m       classification      \u001B[34m|\u001B[0m\u001B[96m    True   \u001B[34m|\u001B[0m\u001B[96m            UNKNOWN            \u001B[34m|\u001B[0m\u001B[96m\n",
      "\u001B[34m|\u001B[0m\u001B[96m              mednode_melanoma_classification               \u001B[34m|\u001B[0m\u001B[96m       mednode       \u001B[34m|\u001B[0m\u001B[96m       classification      \u001B[34m|\u001B[0m\u001B[96m    True   \u001B[34m|\u001B[0m\u001B[96m            UNKNOWN            \u001B[34m|\u001B[0m\u001B[96m\n",
      "\u001B[34m|\u001B[0m\u001B[96m            ph2-melanocytic-lesions-segmentation            \u001B[34m|\u001B[0m\u001B[96m         PH2         \u001B[34m|\u001B[0m\u001B[96m   semantic_segmentation   \u001B[34m|\u001B[0m\u001B[96m    True   \u001B[34m|\u001B[0m\u001B[96m            UNKNOWN            \u001B[34m|\u001B[0m\u001B[96m\n",
      "\u001B[34m|\u001B[0m\u001B[96m           ph2-melanocytic-lesions-classification           \u001B[34m|\u001B[0m\u001B[96m         PH2         \u001B[34m|\u001B[0m\u001B[96m       classification      \u001B[34m|\u001B[0m\u001B[96m    True   \u001B[34m|\u001B[0m\u001B[96m            UNKNOWN            \u001B[34m|\u001B[0m\u001B[96m\n",
      "\u001B[34m|\u001B[0m\u001B[96m                 pascal_voc_challenge_2012                  \u001B[34m|\u001B[0m\u001B[96m        VOC12        \u001B[34m|\u001B[0m\u001B[96m   semantic_segmentation   \u001B[34m|\u001B[0m\u001B[96m    True   \u001B[34m|\u001B[0m\u001B[96m            UNKNOWN            \u001B[34m|\u001B[0m\u001B[96m\n",
      "\u001B[34m|\u001B[0m\u001B[96m            endovissub18_robotic_instrument_seg             \u001B[34m|\u001B[0m\u001B[96m endovis18_rob_instr \u001B[34m|\u001B[0m\u001B[96m   semantic_segmentation   \u001B[34m|\u001B[0m\u001B[96m    True   \u001B[34m|\u001B[0m\u001B[96m            UNKNOWN            \u001B[34m|\u001B[0m\u001B[96m\n",
      "\u001B[34m|\u001B[0m\u001B[96m             glenda_endometriosis_segmentation              \u001B[34m|\u001B[0m\u001B[96m        glenda       \u001B[34m|\u001B[0m\u001B[96m   semantic_segmentation   \u001B[34m|\u001B[0m\u001B[96m    True   \u001B[34m|\u001B[0m\u001B[96m          CC_BY_NC_4_0         \u001B[34m|\u001B[0m\u001B[96m\n",
      "\u001B[34m|\u001B[0m\u001B[96m               hyperkvasir_polyp_segmentation               \u001B[34m|\u001B[0m\u001B[96m   hyperkvasir_seg   \u001B[34m|\u001B[0m\u001B[96m   semantic_segmentation   \u001B[34m|\u001B[0m\u001B[96m    True   \u001B[34m|\u001B[0m\u001B[96m           CC_BY_4_0           \u001B[34m|\u001B[0m\u001B[96m\n",
      "\u001B[34m|\u001B[0m\u001B[96m                 motion-based-segmentation                  \u001B[34m|\u001B[0m\u001B[96m   motion-based-rec  \u001B[34m|\u001B[0m\u001B[96m   semantic_segmentation   \u001B[34m|\u001B[0m\u001B[96m    True   \u001B[34m|\u001B[0m\u001B[96m            UNKNOWN            \u001B[34m|\u001B[0m\u001B[96m\n",
      "\u001B[34m|\u001B[0m\u001B[96m crowdsourced-endoscopic-instrument-segmentation-crowd-only \u001B[34m|\u001B[0m\u001B[96m   crowdsourced-EIS  \u001B[34m|\u001B[0m\u001B[96m   semantic_segmentation   \u001B[34m|\u001B[0m\u001B[96m    True   \u001B[34m|\u001B[0m\u001B[96m            UNKNOWN            \u001B[34m|\u001B[0m\u001B[96m\n",
      "\u001B[34m|\u001B[0m\u001B[96m                    endometrial_implants                    \u001B[34m|\u001B[0m\u001B[96m         enid        \u001B[34m|\u001B[0m\u001B[96m   semantic_segmentation   \u001B[34m|\u001B[0m\u001B[96m    True   \u001B[34m|\u001B[0m\u001B[96m          CC_BY_NC_4_0         \u001B[34m|\u001B[0m\u001B[96m\n",
      "\u001B[34m|\u001B[0m\u001B[96m                      image2image-raw                       \u001B[34m|\u001B[0m\u001B[96m     image2image     \u001B[34m|\u001B[0m\u001B[96m   semantic_segmentation   \u001B[34m|\u001B[0m\u001B[96m    True   \u001B[34m|\u001B[0m\u001B[96m            UNKNOWN            \u001B[34m|\u001B[0m\u001B[96m\n",
      "\u001B[34m|\u001B[0m\u001B[96m                      image2image-rand                      \u001B[34m|\u001B[0m\u001B[96m     image2image     \u001B[34m|\u001B[0m\u001B[96m   semantic_segmentation   \u001B[34m|\u001B[0m\u001B[96m    True   \u001B[34m|\u001B[0m\u001B[96m            UNKNOWN            \u001B[34m|\u001B[0m\u001B[96m\n",
      "\u001B[34m|\u001B[0m\u001B[96m                    image2image-cholec80                    \u001B[34m|\u001B[0m\u001B[96m     image2image     \u001B[34m|\u001B[0m\u001B[96m   semantic_segmentation   \u001B[34m|\u001B[0m\u001B[96m    True   \u001B[34m|\u001B[0m\u001B[96m            UNKNOWN            \u001B[34m|\u001B[0m\u001B[96m\n",
      "\u001B[36m+\u001B[0m\u001B[96m\u001B[34m-\u001B[0m\u001B[96m\u001B[34m-\u001B[0m\u001B[96m\u001B[34m-\u001B[0m\u001B[96m\u001B[34m-\u001B[0m\u001B[96m\u001B[34m-\u001B[0m\u001B[96m\u001B[34m-\u001B[0m\u001B[96m\u001B[34m-\u001B[0m\u001B[96m\u001B[34m-\u001B[0m\u001B[96m\u001B[34m-\u001B[0m\u001B[96m\u001B[34m-\u001B[0m\u001B[96m\u001B[34m-\u001B[0m\u001B[96m\u001B[34m-\u001B[0m\u001B[96m\u001B[34m-\u001B[0m\u001B[96m\u001B[34m-\u001B[0m\u001B[96m\u001B[34m-\u001B[0m\u001B[96m\u001B[34m-\u001B[0m\u001B[96m\u001B[34m-\u001B[0m\u001B[96m\u001B[34m-\u001B[0m\u001B[96m\u001B[34m-\u001B[0m\u001B[96m\u001B[34m-\u001B[0m\u001B[96m\u001B[34m-\u001B[0m\u001B[96m\u001B[34m-\u001B[0m\u001B[96m\u001B[34m-\u001B[0m\u001B[96m\u001B[34m-\u001B[0m\u001B[96m\u001B[34m-\u001B[0m\u001B[96m\u001B[34m-\u001B[0m\u001B[96m\u001B[34m-\u001B[0m\u001B[96m\u001B[34m-\u001B[0m\u001B[96m\u001B[34m-\u001B[0m\u001B[96m\u001B[34m-\u001B[0m\u001B[96m\u001B[34m-\u001B[0m\u001B[96m\u001B[34m-\u001B[0m\u001B[96m\u001B[34m-\u001B[0m\u001B[96m\u001B[34m-\u001B[0m\u001B[96m\u001B[34m-\u001B[0m\u001B[96m\u001B[34m-\u001B[0m\u001B[96m\u001B[34m-\u001B[0m\u001B[96m\u001B[34m-\u001B[0m\u001B[96m\u001B[34m-\u001B[0m\u001B[96m\u001B[34m-\u001B[0m\u001B[96m\u001B[34m-\u001B[0m\u001B[96m\u001B[34m-\u001B[0m\u001B[96m\u001B[34m-\u001B[0m\u001B[96m\u001B[34m-\u001B[0m\u001B[96m\u001B[34m-\u001B[0m\u001B[96m\u001B[34m-\u001B[0m\u001B[96m\u001B[34m-\u001B[0m\u001B[96m\u001B[34m-\u001B[0m\u001B[96m\u001B[34m-\u001B[0m\u001B[96m\u001B[34m-\u001B[0m\u001B[96m\u001B[34m-\u001B[0m\u001B[96m\u001B[34m-\u001B[0m\u001B[96m\u001B[34m-\u001B[0m\u001B[96m\u001B[34m-\u001B[0m\u001B[96m\u001B[34m-\u001B[0m\u001B[96m\u001B[34m-\u001B[0m\u001B[96m\u001B[34m-\u001B[0m\u001B[96m\u001B[34m-\u001B[0m\u001B[96m\u001B[34m-\u001B[0m\u001B[96m\u001B[34m-\u001B[0m\u001B[96m\u001B[36m+\u001B[0m\u001B[96m\u001B[34m-\u001B[0m\u001B[96m\u001B[34m-\u001B[0m\u001B[96m\u001B[34m-\u001B[0m\u001B[96m\u001B[34m-\u001B[0m\u001B[96m\u001B[34m-\u001B[0m\u001B[96m\u001B[34m-\u001B[0m\u001B[96m\u001B[34m-\u001B[0m\u001B[96m\u001B[34m-\u001B[0m\u001B[96m\u001B[34m-\u001B[0m\u001B[96m\u001B[34m-\u001B[0m\u001B[96m\u001B[34m-\u001B[0m\u001B[96m\u001B[34m-\u001B[0m\u001B[96m\u001B[34m-\u001B[0m\u001B[96m\u001B[34m-\u001B[0m\u001B[96m\u001B[34m-\u001B[0m\u001B[96m\u001B[34m-\u001B[0m\u001B[96m\u001B[34m-\u001B[0m\u001B[96m\u001B[34m-\u001B[0m\u001B[96m\u001B[34m-\u001B[0m\u001B[96m\u001B[34m-\u001B[0m\u001B[96m\u001B[34m-\u001B[0m\u001B[96m\u001B[36m+\u001B[0m\u001B[96m\u001B[34m-\u001B[0m\u001B[96m\u001B[34m-\u001B[0m\u001B[96m\u001B[34m-\u001B[0m\u001B[96m\u001B[34m-\u001B[0m\u001B[96m\u001B[34m-\u001B[0m\u001B[96m\u001B[34m-\u001B[0m\u001B[96m\u001B[34m-\u001B[0m\u001B[96m\u001B[34m-\u001B[0m\u001B[96m\u001B[34m-\u001B[0m\u001B[96m\u001B[34m-\u001B[0m\u001B[96m\u001B[34m-\u001B[0m\u001B[96m\u001B[34m-\u001B[0m\u001B[96m\u001B[34m-\u001B[0m\u001B[96m\u001B[34m-\u001B[0m\u001B[96m\u001B[34m-\u001B[0m\u001B[96m\u001B[34m-\u001B[0m\u001B[96m\u001B[34m-\u001B[0m\u001B[96m\u001B[34m-\u001B[0m\u001B[96m\u001B[34m-\u001B[0m\u001B[96m\u001B[34m-\u001B[0m\u001B[96m\u001B[34m-\u001B[0m\u001B[96m\u001B[34m-\u001B[0m\u001B[96m\u001B[34m-\u001B[0m\u001B[96m\u001B[34m-\u001B[0m\u001B[96m\u001B[34m-\u001B[0m\u001B[96m\u001B[34m-\u001B[0m\u001B[96m\u001B[34m-\u001B[0m\u001B[96m\u001B[36m+\u001B[0m\u001B[96m\u001B[34m-\u001B[0m\u001B[96m\u001B[34m-\u001B[0m\u001B[96m\u001B[34m-\u001B[0m\u001B[96m\u001B[34m-\u001B[0m\u001B[96m\u001B[34m-\u001B[0m\u001B[96m\u001B[34m-\u001B[0m\u001B[96m\u001B[34m-\u001B[0m\u001B[96m\u001B[34m-\u001B[0m\u001B[96m\u001B[34m-\u001B[0m\u001B[96m\u001B[34m-\u001B[0m\u001B[96m\u001B[34m-\u001B[0m\u001B[96m\u001B[36m+\u001B[0m\u001B[96m\u001B[34m-\u001B[0m\u001B[96m\u001B[34m-\u001B[0m\u001B[96m\u001B[34m-\u001B[0m\u001B[96m\u001B[34m-\u001B[0m\u001B[96m\u001B[34m-\u001B[0m\u001B[96m\u001B[34m-\u001B[0m\u001B[96m\u001B[34m-\u001B[0m\u001B[96m\u001B[34m-\u001B[0m\u001B[96m\u001B[34m-\u001B[0m\u001B[96m\u001B[34m-\u001B[0m\u001B[96m\u001B[34m-\u001B[0m\u001B[96m\u001B[34m-\u001B[0m\u001B[96m\u001B[34m-\u001B[0m\u001B[96m\u001B[34m-\u001B[0m\u001B[96m\u001B[34m-\u001B[0m\u001B[96m\u001B[34m-\u001B[0m\u001B[96m\u001B[34m-\u001B[0m\u001B[96m\u001B[34m-\u001B[0m\u001B[96m\u001B[34m-\u001B[0m\u001B[96m\u001B[34m-\u001B[0m\u001B[96m\u001B[34m-\u001B[0m\u001B[96m\u001B[34m-\u001B[0m\u001B[96m\u001B[34m-\u001B[0m\u001B[96m\u001B[34m-\u001B[0m\u001B[96m\u001B[34m-\u001B[0m\u001B[96m\u001B[34m-\u001B[0m\u001B[96m\u001B[34m-\u001B[0m\u001B[96m\u001B[34m-\u001B[0m\u001B[96m\u001B[34m-\u001B[0m\u001B[96m\u001B[34m-\u001B[0m\u001B[96m\u001B[34m-\u001B[0m\u001B[96m\u001B[36m+\u001B[0m\u001B[96m\u001B[0m\n",
      "Overall 96 raw tasks available, from 48 datasets. Filter matches 95 raw tasks with additional 248 variants derived thereof.\n",
      "\u001B[0m"
     ]
    }
   ],
   "source": [
    "# available datasets\n",
    "!mml-tasks"
   ]
  },
  {
   "cell_type": "code",
   "execution_count": 5,
   "id": "f77519e1c16b242f",
   "metadata": {
    "ExecuteTime": {
     "end_time": "2024-11-22T14:16:29.406429Z",
     "start_time": "2024-11-22T14:16:22.942232Z"
    }
   },
   "outputs": [
    {
     "name": "stdout",
     "output_type": "stream",
     "text": [
      "[\u001B[36m2025-05-02 22:11:23,262\u001B[0m][\u001B[34mmml\u001B[0m][\u001B[32mINFO\u001B[0m] - Started MML 1.0.4 on Python 3.10.17 with mode CREATE.\u001B[0m\n",
      "[\u001B[36m2025-05-02 22:11:23,263\u001B[0m][\u001B[34mmml\u001B[0m][\u001B[32mINFO\u001B[0m] - Plugins loaded: ['mml-tasks']\u001B[0m\n",
      "[\u001B[36m2025-05-02 22:11:23,595\u001B[0m][\u001B[34mmml.core.scripts.schedulers.create_scheduler\u001B[0m][\u001B[32mINFO\u001B[0m] - Skipping creation of task mnist_digit_classification because there already seems to be a RAW version of that.\u001B[0m\n",
      "[\u001B[36m2025-05-02 22:11:23,596\u001B[0m][\u001B[34mmml\u001B[0m][\u001B[32mINFO\u001B[0m] - MML init time was 0.0h 0.0m  0.33s.\u001B[0m\n",
      "[\u001B[36m2025-05-02 22:11:23,600\u001B[0m][\u001B[34mmml.core.scripts.schedulers.create_scheduler\u001B[0m][\u001B[32mINFO\u001B[0m] - Starting task creation!\u001B[0m\n",
      "[\u001B[36m2025-05-02 22:11:23,600\u001B[0m][\u001B[34mmml.core.data_loading.file_manager\u001B[0m][\u001B[32mINFO\u001B[0m] - A total of 0 paths have been created during this run.\u001B[0m\n",
      "[\u001B[36m2025-05-02 22:11:23,601\u001B[0m][\u001B[34mmml.core.scripts.schedulers.base_scheduler\u001B[0m][\u001B[32mINFO\u001B[0m] - Successfully finished all experiments!\u001B[0m\n",
      "[\u001B[36m2025-05-02 22:11:23,601\u001B[0m][\u001B[34mmml\u001B[0m][\u001B[32mINFO\u001B[0m] - MML run time was 0.0h 0.0m  0.00s.\u001B[0m\n"
     ]
    }
   ],
   "source": [
    "# install data for MNIST (data already installed here, might take a couple of minutes depending on hardware and ethernet connection)\n",
    "!mml create task_list=[mnist_digit_classification]"
   ]
  },
  {
   "cell_type": "code",
   "execution_count": 4,
   "id": "bfece1f893e49e8f",
   "metadata": {
    "ExecuteTime": {
     "end_time": "2024-11-22T14:21:05.831035Z",
     "start_time": "2024-11-22T14:18:15.345112Z"
    }
   },
   "outputs": [
    {
     "name": "stdout",
     "output_type": "stream",
     "text": [
      "/home/scholzpa/miniconda3/envs/mml/lib/python3.8/site-packages/kornia/feature/lightglue.py:44: FutureWarning: `torch.cuda.amp.custom_fwd(args...)` is deprecated. Please use `torch.amp.custom_fwd(args..., device_type='cuda')` instead.\r\n",
      "  @torch.cuda.amp.custom_fwd(cast_inputs=torch.float32)\r\n",
      "[\u001B[36m2024-11-22 15:18:20,420\u001B[0m][\u001B[34mmml\u001B[0m][\u001B[32mINFO\u001B[0m] - Started MML 0.14.2 on Python 3.8.12 with mode PP.\u001B[0m\r\n",
      "[\u001B[36m2024-11-22 15:18:20,420\u001B[0m][\u001B[34mmml\u001B[0m][\u001B[32mINFO\u001B[0m] - Plugins loaded: ['mml-tasks', 'mml-dimensionality', 'mml-similarity', 'mml-tags', 'mml-sql', 'mml-drive', 'mml-lsf', 'mml-suggest', 'mml-prevalences', 'mml-tf']\u001B[0m\r\n",
      "[\u001B[36m2024-11-22 15:18:20,649\u001B[0m][\u001B[34mmml.core.scripts.schedulers.base_scheduler\u001B[0m][\u001B[32mINFO\u001B[0m] - Executing after init hook: check_lsf_workers\u001B[0m\r\n",
      "[\u001B[36m2024-11-22 15:18:20,650\u001B[0m][\u001B[34mmml_lsf.workers\u001B[0m][\u001B[32mINFO\u001B[0m] - LSF cluster plugin detected local system, no changes made to the number of workers.\u001B[0m\r\n",
      "[\u001B[36m2024-11-22 15:18:20,657\u001B[0m][\u001B[34mmml\u001B[0m][\u001B[32mINFO\u001B[0m] - MML init time was 0.0h 0.0m  0.24s.\u001B[0m\r\n",
      "[\u001B[36m2024-11-22 15:18:20,659\u001B[0m][\u001B[34mmml.core.scripts.schedulers.base_scheduler\u001B[0m][\u001B[32mINFO\u001B[0m] - Preparing experiment ...\u001B[0m\r\n",
      "[\u001B[36m2024-11-22 15:18:20,660\u001B[0m][\u001B[34mmml.core.scripts.schedulers.base_scheduler\u001B[0m][\u001B[32mINFO\u001B[0m] - Starting experiment!\u001B[0m\r\n",
      "[\u001B[36m2024-11-22 15:18:20,660\u001B[0m][\u001B[34mmml.core.scripts.schedulers.preprocess_scheduler\u001B[0m][\u001B[32mINFO\u001B[0m] - Starting preprocessing data for task \u001B[33m\u001B[46m\u001B[1mmnist_digit_classification\u001B[0m\r\n",
      "[\u001B[36m2024-11-22 15:18:20,660\u001B[0m][\u001B[34mpy.warnings\u001B[0m][\u001B[33mWARNING\u001B[0m] - /home/scholzpa/Documents/development/gitlab/mml/src/mml/core/scripts/schedulers/preprocess_scheduler.py:101: UserWarning: THIS BEHAVIOUR CHANGED: Test data is now also to be preprocessed!\u001B[0m\r\n",
      "[\u001B[36m2024-11-22 15:18:21,009\u001B[0m][\u001B[34mmml.core.scripts.schedulers.preprocess_scheduler\u001B[0m][\u001B[32mINFO\u001B[0m] - Preprocessing split: full_train\u001B[0m\r\n",
      "100%|███████████████████████████████████| 60000/60000 [00:23<00:00, 2564.80it/s]\r\n",
      "[\u001B[36m2024-11-22 15:18:44,669\u001B[0m][\u001B[34mmml.core.scripts.schedulers.preprocess_scheduler\u001B[0m][\u001B[32mINFO\u001B[0m] - Existing full_train files found:\r\n",
      "image    0\u001B[0m\r\n",
      "[\u001B[36m2024-11-22 15:18:44,670\u001B[0m][\u001B[34mmml.core.scripts.schedulers.preprocess_scheduler\u001B[0m][\u001B[32mINFO\u001B[0m] - Preprocessing split: test\u001B[0m\r\n",
      "[\u001B[36m2024-11-22 15:18:44,670\u001B[0m][\u001B[34mmml.core.scripts.schedulers.preprocess_scheduler\u001B[0m][\u001B[32mINFO\u001B[0m] - No samples in split: test\u001B[0m\r\n",
      "[\u001B[36m2024-11-22 15:18:44,670\u001B[0m][\u001B[34mmml.core.scripts.schedulers.preprocess_scheduler\u001B[0m][\u001B[32mINFO\u001B[0m] - Preprocessing split: unlabelled\u001B[0m\r\n",
      "[\u001B[36m2024-11-22 15:18:44,670\u001B[0m][\u001B[34mmml.core.scripts.schedulers.preprocess_scheduler\u001B[0m][\u001B[32mINFO\u001B[0m] - No samples in split: unlabelled\u001B[0m\r\n",
      "[\u001B[36m2024-11-22 15:18:45,041\u001B[0m][\u001B[34mmml.core.data_loading.file_manager\u001B[0m][\u001B[32mINFO\u001B[0m] - Writing task description at /home/scholzpa/Pictures/datasets/mml_data/PREPROCESSED/size224/DSET_mnist/temp.json.\u001B[0m\r\n",
      "[\u001B[36m2024-11-22 15:18:45,122\u001B[0m][\u001B[34mmml.core.data_preparation.utils\u001B[0m][\u001B[32mINFO\u001B[0m] - Calculating mean, std and size. This may take a couple of minutes.\u001B[0m\r\n",
      "Gathering sizes: 100%|█████████████████| 60000/60000 [00:05<00:00, 11661.43it/s]\r\n",
      "Gathering mean and std: 100%|█████████████████| 600/600 [02:12<00:00,  4.53it/s]\r\n",
      "[\u001B[36m2024-11-22 15:21:03,916\u001B[0m][\u001B[34mmml.core.data_loading.file_manager\u001B[0m][\u001B[32mINFO\u001B[0m] - Writing task description at /home/scholzpa/Pictures/datasets/mml_data/PREPROCESSED/size224/DSET_mnist/TASK_mnist_digit_classification.json.\u001B[0m\r\n",
      "[\u001B[36m2024-11-22 15:21:03,998\u001B[0m][\u001B[34mmml.core.data_preparation.task_creator\u001B[0m][\u001B[32mINFO\u001B[0m] - Testing the loading of /home/scholzpa/Pictures/datasets/mml_data/PREPROCESSED/size224/DSET_mnist/TASK_mnist_digit_classification.json...\u001B[0m\r\n",
      "[\u001B[36m2024-11-22 15:21:04,601\u001B[0m][\u001B[34mmml.core.data_preparation.task_creator\u001B[0m][\u001B[32mINFO\u001B[0m] - Testing of /home/scholzpa/Pictures/datasets/mml_data/PREPROCESSED/size224/DSET_mnist/TASK_mnist_digit_classification.json finished, dataset loading time was  0.60 seconds, sample loading time was  0.00 seconds.\u001B[0m\r\n",
      "[\u001B[36m2024-11-22 15:21:04,615\u001B[0m][\u001B[34mmml.core.scripts.schedulers.preprocess_scheduler\u001B[0m][\u001B[32mINFO\u001B[0m] - Finished preprocessing the data for task \u001B[33m\u001B[46m\u001B[1mmnist_digit_classification\u001B[0m\r\n",
      "[\u001B[36m2024-11-22 15:21:04,630\u001B[0m][\u001B[34mmml.core.data_loading.file_manager\u001B[0m][\u001B[32mINFO\u001B[0m] - A total of 0 paths have been created during this run.\u001B[0m\r\n",
      "[\u001B[36m2024-11-22 15:21:04,630\u001B[0m][\u001B[34mmml.core.scripts.schedulers.base_scheduler\u001B[0m][\u001B[32mINFO\u001B[0m] - Successfully finished all experiments!\u001B[0m\r\n",
      "[\u001B[36m2024-11-22 15:21:04,630\u001B[0m][\u001B[34mmml\u001B[0m][\u001B[32mINFO\u001B[0m] - MML run time was 0.0h 2.0m 43.97s.\u001B[0m\r\n"
     ]
    }
   ],
   "source": [
    "# preprocess task\n",
    "!mml pp task_list=[mnist_digit_classification] preprocessing=size224"
   ]
  },
  {
   "cell_type": "markdown",
   "id": "9fa178d147376fee",
   "metadata": {},
   "source": [
    "## Step 2: Use defaults for training"
   ]
  },
  {
   "cell_type": "code",
   "execution_count": null,
   "id": "33891aeb2bbf72bf",
   "metadata": {},
   "outputs": [],
   "source": [
    "# to run a single training\n",
    "!mml train pivot.name=mnist_digit_classification preprocessing=size224 proj=demo_baseline\n",
    "# afterwards inspect the training via running tensorboard and inspecting through the browser\n",
    "!tensorboard --logdir /path/to/mml/results/demo_baseline"
   ]
  },
  {
   "cell_type": "markdown",
   "id": "76000e8998ee5df5",
   "metadata": {},
   "source": [
    "![image not found](../../../../docs/source/_static/tensorboard_example.png \"Tensorboard view\")"
   ]
  },
  {
   "cell_type": "markdown",
   "id": "49c76e16e67254d1",
   "metadata": {},
   "source": [
    "## Step 3: Optimizing hyperparameters\n",
    "\n",
    "We will perform a simple grid search with a couple of architectures & augmentation strategies."
   ]
  },
  {
   "cell_type": "code",
   "execution_count": null,
   "id": "6556cc458ea30636",
   "metadata": {},
   "outputs": [],
   "source": [
    "# to run a hyperparameter search (here: grid search with 3 models x 3 augmentation strategies),\n",
    "# to speed things up: no cross-validation, only 1 epoch, deactivated learning rate tuning\n",
    "!mml train pivot.name=mnist_digit_classification preprocessing=size224 arch.name=resnet18,tiny_vit_21m_224.dist_in22k_ft_in1k,tf_efficientnet_b0.ns_jft_in1k augmentations=basic,randaugment,load_imagenet_aa proj=demo_grid trainer.max_epochs=1 tune.lr=false sampling.batch_size=100 mode.cv=false  mode.nested=False +hpo/sampler=grid --multirun"
   ]
  },
  {
   "cell_type": "markdown",
   "id": "d1c658d74afcc506",
   "metadata": {},
   "source": [
    "at the end it prints:\n",
    "\n",
    "> [HYDRA] Best parameters: {'arch.name': 'tiny_vit_21m_224.dist_in22k_ft_in1k', 'augmentations': 'randaugment'}\n",
    "> [HYDRA] Best value: 0.0211497992277145"
   ]
  },
  {
   "cell_type": "code",
   "execution_count": null,
   "id": "c67617588ea39032",
   "metadata": {},
   "outputs": [],
   "source": [
    "# use the best hyperparameters in a full training run (the use_best_params is the name of our search, a folder inside the proj folder, inside \"hpo\", i.e. MML_RESULTS_PATH/demo_grid/hpo/2024-12-03_12-28-46_362374)\n",
    "!mml train proj=demo_grid use_best_params=2024-12-03_12-28-46_362374 pivot.name=mnist_digit_classification"
   ]
  },
  {
   "cell_type": "markdown",
   "id": "2ff83f854dbba771",
   "metadata": {},
   "source": [
    "[mml][INFO] - -------------------------------------------------------------------------------------\n",
    "[mml][INFO] - Loaded hpo results from study 2024-12-03_12-28-46_362374 and merged 2 params into config.\n",
    "[mml][INFO] -   > arch.name=tiny_vit_21m_224.dist_in22k_ft_in1k\n",
    "[mml][INFO] -   > augmentations=randaugment\n",
    "[mml][INFO] - -------------------------------------------------------------------------------------\n",
    "[mml][INFO] - Started MML 0.14.2 on Python 3.10.9 with mode TRAIN.\n",
    "..."
   ]
  },
  {
   "cell_type": "markdown",
   "id": "f3abca00-12e0-4993-9709-5cbb5d8b9d0f",
   "metadata": {},
   "source": [
    "For more complex optimization setups (e.g. multi node optimization) one may use the `mml-sql` plugin. See the plugin documentation for installation and setup instructions. "
   ]
  },
  {
   "cell_type": "code",
   "execution_count": null,
   "id": "62bf1503-ca31-4d8c-a86b-5c7bfa614d89",
   "metadata": {},
   "outputs": [],
   "source": []
  }
 ],
 "metadata": {
  "kernelspec": {
   "display_name": "mml-dev",
   "language": "python",
   "name": "mml-dev"
  },
  "language_info": {
   "codemirror_mode": {
    "name": "ipython",
    "version": 3
   },
   "file_extension": ".py",
   "mimetype": "text/x-python",
   "name": "python",
   "nbconvert_exporter": "python",
   "pygments_lexer": "ipython3",
   "version": "3.10.17"
  }
 },
 "nbformat": 4,
 "nbformat_minor": 5
}
