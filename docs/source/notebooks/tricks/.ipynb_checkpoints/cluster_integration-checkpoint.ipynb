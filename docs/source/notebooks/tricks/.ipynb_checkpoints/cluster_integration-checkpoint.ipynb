{
 "cells": [
  {
   "cell_type": "markdown",
   "id": "605dfe269fb7d31",
   "metadata": {},
   "source": [
    "# mml on a cluster\n",
    "\n",
    "Especially for large scale or hardware demanding experiments it is nice to outsource experiments to a cluster. It is straightforward to set up `mml` for compatible use throughout multiple systems. `mml` ships with a `cluster` configuration provided within `configs/sys`. It loads the environment variables `MML_CLUSTER_DATA_PATH`, `MML_CLUSTER_RESULTS_PATH` and `MML_CLUSTER_WORKERS` exported in the `mml.env` file instead of the local ones (adding even more system configurations can be achieved similarly via additional `sys` config files). Now the only difference in calling `mml` becomes:"
   ]
  },
  {
   "cell_type": "code",
   "execution_count": null,
   "id": "initial_id",
   "metadata": {
    "collapsed": true,
    "jupyter": {
     "outputs_hidden": true
    }
   },
   "outputs": [],
   "source": [
    "!mml ... sys=cluster "
   ]
  },
  {
   "cell_type": "markdown",
   "id": "049d9791-f3f4-4082-91dd-9ab59772d687",
   "metadata": {},
   "source": [
    "Of course the respective paths must be available on the other system and kept in sync (e.g. via `rsync`). It is possible to manage cluster jobs and data syncing via a `JobRunner` - see the `mml-lsf` plugin for an example on how to interact easily with an LSF cluster. "
   ]
  }
 ],
 "metadata": {
  "kernelspec": {
   "display_name": "Python 3 (ipykernel)",
   "language": "python",
   "name": "python3"
  },
  "language_info": {
   "codemirror_mode": {
    "name": "ipython",
    "version": 3
   },
   "file_extension": ".py",
   "mimetype": "text/x-python",
   "name": "python",
   "nbconvert_exporter": "python",
   "pygments_lexer": "ipython3",
   "version": "3.8.12"
  }
 },
 "nbformat": 4,
 "nbformat_minor": 5
}
