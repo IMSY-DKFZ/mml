{
 "cells": [
  {
   "cell_type": "markdown",
   "source": [
    "# Time efficiency\n",
    "\n",
    "- use preprocessing: `mml pp ...`\n",
    "- optimise number of workers: `num_workers=12` - use neither to many nor too few\n",
    "- use caching: `sampling.enable_caching=true`\n",
    "- reduce validation checks: `trainer.check_vals_every_n_epochs=10`  - but keep in mind this may prohibit early stopping or reduce learning rate on plateau\n",
    "- early stopping: `callbacks=early`\n",
    "- pruning (not supported yet see issue #19)\n",
    "\n",
    "# Memory efficiency\n",
    "\n",
    "- remove intermediates: `remove.parameters=true` - remove any NEW intermediate of the specified type AFTER an experiment is done\n",
    "- store_parameters (only for train mode): `mml train mode.store_parameters=false` - does not store parameters at all"
   ],
   "metadata": {
    "collapsed": false
   }
  }
 ],
 "metadata": {
  "kernelspec": {
   "display_name": "Python 3",
   "language": "python",
   "name": "python3"
  },
  "language_info": {
   "codemirror_mode": {
    "name": "ipython",
    "version": 2
   },
   "file_extension": ".py",
   "mimetype": "text/x-python",
   "name": "python",
   "nbconvert_exporter": "python",
   "pygments_lexer": "ipython2",
   "version": "2.7.6"
  }
 },
 "nbformat": 4,
 "nbformat_minor": 0
}
