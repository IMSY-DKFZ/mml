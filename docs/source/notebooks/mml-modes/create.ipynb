{
 "cells": [
  {
   "cell_type": "markdown",
   "source": [
    "# Create mode\n",
    "\n",
    "This notebook depicts the `create` mode. It is used to generate the underlying data for a task. Task creation is the very first step that needs to be taken\n",
    "in order to use it for processing. The `mml-data` plugin provides the creators to generate a variety of tasks. But we stick to the `mml_fake_task` implemented in\n",
    "`mml-core` for simplicity.\n",
    "\n"
   ],
   "metadata": {
    "collapsed": false
   }
  },
  {
   "cell_type": "code",
   "execution_count": 4,
   "outputs": [
    {
     "name": "stdout",
     "output_type": "stream",
     "text": [
      "[\u001B[36m2024-01-17 13:37:19,383\u001B[0m][\u001B[34mmml\u001B[0m][\u001B[32mINFO\u001B[0m] - Started MML 0.12.0 on Python 3.8.13 with mode CREATE.\u001B[0m\r\n",
      "[\u001B[36m2024-01-17 13:37:19,383\u001B[0m][\u001B[34mmml\u001B[0m][\u001B[32mINFO\u001B[0m] - Plugins loaded: ['mml-data', 'mml-tags', 'mml-dimensionality', 'mml-inference', 'mml-sql', 'mml-similarity']\u001B[0m\r\n",
      "[\u001B[36m2024-01-17 13:37:19,526\u001B[0m][\u001B[34mmml\u001B[0m][\u001B[32mINFO\u001B[0m] - MML init time was 0.0h 0.0m  0.14s.\u001B[0m\r\n",
      "[\u001B[36m2024-01-17 13:37:19,527\u001B[0m][\u001B[34mmml.core.scripts.schedulers.create_scheduler\u001B[0m][\u001B[32mINFO\u001B[0m] - Starting task creation!\u001B[0m\r\n",
      "[\u001B[36m2024-01-17 13:37:19,528\u001B[0m][\u001B[34mmml.core.scripts.schedulers.create_scheduler\u001B[0m][\u001B[32mINFO\u001B[0m] - Starting preparing dataset \u001B[33m\u001B[46m\u001B[1mmml_fake_dataset\u001B[0m\r\n",
      "[\u001B[36m2024-01-17 13:37:19,530\u001B[0m][\u001B[34mmml.core.data_loading.file_manager\u001B[0m][\u001B[32mINFO\u001B[0m] - Found and reuse already existing download folder for dataset mml_fake_dataset @ /home/scholzpa/Pictures/datasets/mml_data/DOWNLOADS/mml_fake_dataset.\u001B[0m\r\n",
      "Transfering training data: 100%|███████████| 1000/1000 [00:03<00:00, 277.82it/s]\r\n",
      "Transfering testing data: 100%|██████████████| 500/500 [00:01<00:00, 280.32it/s]\r\n",
      "[\u001B[36m2024-01-17 13:37:24,915\u001B[0m][\u001B[34mmml.core.scripts.schedulers.create_scheduler\u001B[0m][\u001B[32mINFO\u001B[0m] - Finished preparing dataset \u001B[33m\u001B[46m\u001B[1mmml_fake_dataset\u001B[0m\r\n",
      "[\u001B[36m2024-01-17 13:37:24,916\u001B[0m][\u001B[34mmml.core.scripts.schedulers.create_scheduler\u001B[0m][\u001B[32mINFO\u001B[0m] - Starting preparing task \u001B[33m\u001B[46m\u001B[1mmml_fake_task\u001B[0m\r\n",
      "[\u001B[36m2024-01-17 13:37:24,919\u001B[0m][\u001B[34mmml.core.data_preparation.task_creator\u001B[0m][\u001B[33mWARNING\u001B[0m] - Task name mml_fake_task already used with prepossessings dict_keys(['default', 'size512', 'size256']).\u001B[0m\r\n",
      "Scanning train data: 100%|███████████████| 1000/1000 [00:00<00:00, 27284.29it/s]\r\n",
      "[\u001B[36m2024-01-17 13:37:24,962\u001B[0m][\u001B[34mmml.core.data_preparation.task_creator\u001B[0m][\u001B[32mINFO\u001B[0m] - Found 1000 items in train.\u001B[0m\r\n",
      "[\u001B[36m2024-01-17 13:37:24,968\u001B[0m][\u001B[34mmml.core.data_loading.file_manager\u001B[0m][\u001B[32mINFO\u001B[0m] - Writing task description at /home/scholzpa/Pictures/datasets/mml_data/RAW/DSET_mml_fake_dataset/temp.json.\u001B[0m\r\n",
      "[\u001B[36m2024-01-17 13:37:24,977\u001B[0m][\u001B[34mmml.core.data_preparation.utils\u001B[0m][\u001B[32mINFO\u001B[0m] - Calculating mean, std and size. This may take a couple of minutes.\u001B[0m\r\n",
      "Gathering sizes: 100%|███████████████████| 1000/1000 [00:00<00:00, 12743.30it/s]\r\n",
      "Gathering mean and std: 100%|███████████████████| 10/10 [00:01<00:00,  8.88it/s]\r\n",
      "[\u001B[36m2024-01-17 13:37:26,320\u001B[0m][\u001B[34mmml.core.data_loading.file_manager\u001B[0m][\u001B[32mINFO\u001B[0m] - Writing task description at /home/scholzpa/Pictures/datasets/mml_data/RAW/DSET_mml_fake_dataset/TASK_mml_fake_task.json.\u001B[0m\r\n",
      "[\u001B[36m2024-01-17 13:37:26,322\u001B[0m][\u001B[34mmml.core.data_preparation.task_creator\u001B[0m][\u001B[32mINFO\u001B[0m] - Testing the loading of /home/scholzpa/Pictures/datasets/mml_data/RAW/DSET_mml_fake_dataset/TASK_mml_fake_task.json...\u001B[0m\r\n",
      "[\u001B[36m2024-01-17 13:37:26,328\u001B[0m][\u001B[34mmml.core.data_preparation.task_creator\u001B[0m][\u001B[32mINFO\u001B[0m] - Testing of /home/scholzpa/Pictures/datasets/mml_data/RAW/DSET_mml_fake_dataset/TASK_mml_fake_task.json finished, dataset loading time was  0.01 seconds, sample loading time was  0.00 seconds.\u001B[0m\r\n",
      "[\u001B[36m2024-01-17 13:37:26,329\u001B[0m][\u001B[34mmml.core.scripts.schedulers.create_scheduler\u001B[0m][\u001B[32mINFO\u001B[0m] - Finished preparing task \u001B[33m\u001B[46m\u001B[1mmml_fake_task\u001B[0m\r\n",
      "[\u001B[36m2024-01-17 13:37:26,330\u001B[0m][\u001B[34mmml.core.data_loading.file_manager\u001B[0m][\u001B[32mINFO\u001B[0m] - A total of 0 paths have been created during this run.\u001B[0m\r\n",
      "[\u001B[36m2024-01-17 13:37:26,330\u001B[0m][\u001B[34mmml.core.scripts.schedulers.base_scheduler\u001B[0m][\u001B[32mINFO\u001B[0m] - Successfully finished all experiments!\u001B[0m\r\n",
      "[\u001B[36m2024-01-17 13:37:26,330\u001B[0m][\u001B[34mmml\u001B[0m][\u001B[32mINFO\u001B[0m] - MML run time was 0.0h 0.0m  6.80s.\u001B[0m\r\n"
     ]
    }
   ],
   "source": "!mml create task_list=[mml_fake_task]",
   "metadata": {
    "collapsed": false,
    "ExecuteTime": {
     "start_time": "2024-01-17T13:37:15.577387Z",
     "end_time": "2024-01-17T13:37:27.007079Z"
    }
   }
  },
  {
   "cell_type": "markdown",
   "source": [
    "After creation we can see some information on the task with `info` mode."
   ],
   "metadata": {
    "collapsed": false
   }
  },
  {
   "cell_type": "code",
   "execution_count": 5,
   "outputs": [
    {
     "name": "stdout",
     "output_type": "stream",
     "text": [
      "[\u001B[36m2024-01-17 13:37:49,066\u001B[0m][\u001B[34mmml\u001B[0m][\u001B[32mINFO\u001B[0m] - Started MML 0.12.0 on Python 3.8.13 with mode INFO.\u001B[0m\r\n",
      "[\u001B[36m2024-01-17 13:37:49,067\u001B[0m][\u001B[34mmml\u001B[0m][\u001B[32mINFO\u001B[0m] - Plugins loaded: ['mml-data', 'mml-tags', 'mml-dimensionality', 'mml-inference', 'mml-sql', 'mml-similarity']\u001B[0m\r\n",
      "[\u001B[36m2024-01-17 13:37:49,211\u001B[0m][\u001B[34mmml.core.scripts.schedulers.info_scheduler\u001B[0m][\u001B[32mINFO\u001B[0m] - Was given no study name to search for, so showing all studies with project prefix.\u001B[0m\r\n",
      "[\u001B[36m2024-01-17 13:37:49,212\u001B[0m][\u001B[34mmml\u001B[0m][\u001B[32mINFO\u001B[0m] - MML init time was 0.0h 0.0m  0.15s.\u001B[0m\r\n",
      "[\u001B[36m2024-01-17 13:37:49,213\u001B[0m][\u001B[34mmml.core.scripts.schedulers.base_scheduler\u001B[0m][\u001B[32mINFO\u001B[0m] - Preparing experiment ...\u001B[0m\r\n",
      "[\u001B[36m2024-01-17 13:37:49,214\u001B[0m][\u001B[34mmml.core.scripts.schedulers.base_scheduler\u001B[0m][\u001B[32mINFO\u001B[0m] - Starting experiment!\u001B[0m\r\n",
      "[\u001B[36m2024-01-17 13:37:49,214\u001B[0m][\u001B[34mmml.core.scripts.schedulers.info_scheduler\u001B[0m][\u001B[32mINFO\u001B[0m] - Starting info on task \u001B[33m\u001B[46m\u001B[1mmml_fake_task\u001B[0m\r\n",
      "[\u001B[36m2024-01-17 13:37:49,214\u001B[0m][\u001B[34mmml.core.scripts.schedulers.info_scheduler\u001B[0m][\u001B[32mINFO\u001B[0m] - Task name: mml_fake_task\r\n",
      "Task type: classification\r\n",
      "Num classes: 10\r\n",
      "Means: RGBInfo(r=0.49829596281051636, g=0.49836331605911255, b=0.498288631439209)\r\n",
      "Stds: RGBInfo(r=0.1517328917980194, g=0.15169444680213928, b=0.1517714262008667)\r\n",
      "Sizes: Sizes(min_height=256, max_height=256, min_width=256, max_width=256)\r\n",
      "Class occ: {'J': 96, 'C': 103, 'I': 127, 'A': 93, 'B': 95, 'F': 93, 'E': 93, 'D': 121, 'H': 89, 'G': 90}\r\n",
      "Preprocessed: default\r\n",
      "Task keywords: ['artificial']\r\n",
      "paths: {}\r\n",
      "models: []\u001B[0m\r\n",
      "[\u001B[36m2024-01-17 13:37:49,224\u001B[0m][\u001B[34mmml.core.scripts.schedulers.info_scheduler\u001B[0m][\u001B[32mINFO\u001B[0m] - Num samples (full train set): 1000\u001B[0m\r\n",
      "[\u001B[36m2024-01-17 13:37:49,224\u001B[0m][\u001B[34mmml.core.scripts.schedulers.info_scheduler\u001B[0m][\u001B[32mINFO\u001B[0m] - Default validation class occurrences are: {2: 21, 7: 18, 9: 19, 0: 19, 3: 24, 8: 25, 4: 19, 1: 19, 5: 19, 6: 18}\u001B[0m\r\n",
      "[\u001B[36m2024-01-17 13:37:49,224\u001B[0m][\u001B[34mmml.core.scripts.schedulers.info_scheduler\u001B[0m][\u001B[32mINFO\u001B[0m] - Finished info on task \u001B[33m\u001B[46m\u001B[1mmml_fake_task\u001B[0m\r\n",
      "[\u001B[36m2024-01-17 13:37:49,225\u001B[0m][\u001B[34mmml.core.scripts.schedulers.info_scheduler\u001B[0m][\u001B[32mINFO\u001B[0m] - Starting plotting sample grid of all tasks.\u001B[0m\r\n",
      "Loading samples:   0%|                                    | 0/1 [00:00<?, ?it/s][\u001B[36m2024-01-17 13:37:49,226\u001B[0m][\u001B[34mpy.warnings\u001B[0m][\u001B[33mWARNING\u001B[0m] - /home/scholzpa/Documents/development/gitlab/mml/src/mml/core/data_loading/lightning_datamodule.py:216: Deactivated normalization for task mml_fake_task.\u001B[0m\r\n",
      "Loading samples: 100%|████████████████████████████| 1/1 [00:00<00:00, 50.50it/s]\r\n",
      "[\u001B[36m2024-01-17 13:37:49,261\u001B[0m][\u001B[34mmml.core.scripts.schedulers.info_scheduler\u001B[0m][\u001B[32mINFO\u001B[0m] - Finished plotting sample grid. Can be found at /home/scholzpa/Documents/exp/mml_results/default/PLOTS/sample_grid/grid_0078.png.\u001B[0m\r\n",
      "[\u001B[36m2024-01-17 13:37:49,271\u001B[0m][\u001B[34mmml.core.scripts.schedulers.info_scheduler\u001B[0m][\u001B[32mINFO\u001B[0m] - Finished plotting individual samples for each task.\u001B[0m\r\n",
      "[\u001B[36m2024-01-17 13:37:49,272\u001B[0m][\u001B[34mmml.core.scripts.schedulers.info_scheduler\u001B[0m][\u001B[32mINFO\u001B[0m] - Total number of all samples: 1000.\u001B[0m\r\n",
      "[\u001B[36m2024-01-17 13:37:49,272\u001B[0m][\u001B[34mmml.core.data_loading.file_manager\u001B[0m][\u001B[32mINFO\u001B[0m] - A total of 2 paths have been created during this run.\u001B[0m\r\n",
      "[\u001B[36m2024-01-17 13:37:49,272\u001B[0m][\u001B[34mmml.core.scripts.schedulers.base_scheduler\u001B[0m][\u001B[32mINFO\u001B[0m] - Successfully finished all experiments!\u001B[0m\r\n",
      "[\u001B[36m2024-01-17 13:37:49,272\u001B[0m][\u001B[34mmml\u001B[0m][\u001B[32mINFO\u001B[0m] - MML run time was 0.0h 0.0m  0.06s.\u001B[0m\r\n",
      "\u001B[0m"
     ]
    }
   ],
   "source": "!mml info task_list=[mml_fake_task]",
   "metadata": {
    "collapsed": false,
    "ExecuteTime": {
     "start_time": "2024-01-17T13:37:45.355221Z",
     "end_time": "2024-01-17T13:37:49.923265Z"
    }
   }
  }
 ],
 "metadata": {
  "kernelspec": {
   "display_name": "Python 3",
   "language": "python",
   "name": "python3"
  },
  "language_info": {
   "codemirror_mode": {
    "name": "ipython",
    "version": 2
   },
   "file_extension": ".py",
   "mimetype": "text/x-python",
   "name": "python",
   "nbconvert_exporter": "python",
   "pygments_lexer": "ipython2",
   "version": "2.7.6"
  }
 },
 "nbformat": 4,
 "nbformat_minor": 0
}
