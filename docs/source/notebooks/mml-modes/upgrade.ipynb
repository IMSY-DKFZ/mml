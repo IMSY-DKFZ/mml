{
 "cells": [
  {
   "cell_type": "markdown",
   "source": [
    "# Upgrade and Downgrade\n",
    "\n",
    "Whenever a breaking change happens `MML` tries to silently handle these internally (e.g. the switch from `.yaml` to `.json` format in storing `ModelStorage`, where\n",
    "loading old `.yaml` files is still possible). Occasionally breaking changes require an upgrade of the underlying MML_EXPS and MML_DATA directories. This is where the\n",
    "upgrade mode allows to switch versions with ease.\n",
    "\n",
    "For example `mml-core=0.12.0` changed the data backend, hence when coming from any version below an upgrade is necessary. This is performed via first upgrading `mml-core` to a version at least `0.12.0` and then calling.\n",
    "\n",
    "`mml upgrade mode.version=0.11.1`\n",
    "\n",
    "(if coming from version `0.11.1` before). The scheduler handles multiple upgrades internally so there is no need in upgrading step wise manually: simple upgrade `mml-core` to the most recent version and provide your previous version via `mode.version`.\n",
    "\n",
    "If you want to downgrade the necessary steps are almost identical, but the order is reversed: With the current `mml-core` version call\n",
    "\n",
    "`mml downgrade mode.version=0.11.1`\n",
    "\n",
    "(if you want to downgrade your files to a `0.11.1` compatible version). And afterward downgrade `mml-core` itself."
   ],
   "metadata": {
    "collapsed": false
   }
  },
  {
   "cell_type": "markdown",
   "source": [],
   "metadata": {
    "collapsed": false
   }
  }
 ],
 "metadata": {
  "kernelspec": {
   "display_name": "Python 3",
   "language": "python",
   "name": "python3"
  },
  "language_info": {
   "codemirror_mode": {
    "name": "ipython",
    "version": 2
   },
   "file_extension": ".py",
   "mimetype": "text/x-python",
   "name": "python",
   "nbconvert_exporter": "python",
   "pygments_lexer": "ipython2",
   "version": "2.7.6"
  }
 },
 "nbformat": 4,
 "nbformat_minor": 0
}
